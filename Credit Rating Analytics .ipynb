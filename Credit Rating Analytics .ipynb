{
 "cells": [
  {
   "cell_type": "markdown",
   "id": "f89632a3-e8ec-4255-9df3-aa6acbb28ea3",
   "metadata": {},
   "source": [
    "# Analyzing borrowers’ risk of defaulting\n",
    "Your project is to prepare a report for a bank’s loan division. You’ll need to find out if a customer’s marital status and number of children has an impact on whether they will default on a loan. The bank already has some data on customers’ credit worthiness.\n",
    "\n",
    "Your report will be considered when building a credit scoring of a potential customer. A credit scoring is used to evaluate the ability of a potential borrower to repay their loan.\n",
    "\n",
    "# Objective\n",
    "\n",
    "The objective of this project is to:\n",
    "\n",
    "Prepare a report for a bank's loan division by analyze a borrower's risk of defaulting.\n",
    "Apply Data Preprocessing to a real-life analytical case study."
   ]
  },
  {
   "cell_type": "code",
   "execution_count": 76,
   "id": "3c4571aa-2d08-41a4-a749-597a59c9182c",
   "metadata": {},
   "outputs": [
    {
     "name": "stdout",
     "output_type": "stream",
     "text": [
      "Requirement already satisfied: nltk in c:\\users\\user\\anaconda\\lib\\site-packages (3.8.1)\n",
      "Requirement already satisfied: click in c:\\users\\user\\anaconda\\lib\\site-packages (from nltk) (8.1.7)\n",
      "Requirement already satisfied: joblib in c:\\users\\user\\anaconda\\lib\\site-packages (from nltk) (1.2.0)\n",
      "Requirement already satisfied: regex>=2021.8.3 in c:\\users\\user\\anaconda\\lib\\site-packages (from nltk) (2023.10.3)\n",
      "Requirement already satisfied: tqdm in c:\\users\\user\\anaconda\\lib\\site-packages (from nltk) (4.65.0)\n",
      "Requirement already satisfied: colorama in c:\\users\\user\\anaconda\\lib\\site-packages (from click->nltk) (0.4.6)\n"
     ]
    }
   ],
   "source": [
    "import pandas as pd\n",
    "import matplotlib.pyplot as plt\n",
    "import numpy as np\n",
    "import seaborn as sns\n",
    "\n",
    "# import WordNet Lemmatizer for dealing with categorical variables\n",
    "!pip install nltk\n",
    "import nltk\n",
    "from nltk.stem import WordNetLemmatizer\n",
    "\n",
    "# import Snowball stemmer\n",
    "from nltk.stem import SnowballStemmer"
   ]
  },
  {
   "cell_type": "code",
   "execution_count": 2,
   "id": "69de0739-3250-4636-bbbe-4b3103df543c",
   "metadata": {},
   "outputs": [],
   "source": [
    "#loading our dataset\n",
    "df = pd.read_csv(\"Downloads/credit_scoring_eng.csv\")"
   ]
  },
  {
   "cell_type": "code",
   "execution_count": 3,
   "id": "059bb2d0-7d39-4e85-83f9-d826cf07154d",
   "metadata": {},
   "outputs": [
    {
     "data": {
      "text/html": [
       "<div>\n",
       "<style scoped>\n",
       "    .dataframe tbody tr th:only-of-type {\n",
       "        vertical-align: middle;\n",
       "    }\n",
       "\n",
       "    .dataframe tbody tr th {\n",
       "        vertical-align: top;\n",
       "    }\n",
       "\n",
       "    .dataframe thead th {\n",
       "        text-align: right;\n",
       "    }\n",
       "</style>\n",
       "<table border=\"1\" class=\"dataframe\">\n",
       "  <thead>\n",
       "    <tr style=\"text-align: right;\">\n",
       "      <th></th>\n",
       "      <th>children</th>\n",
       "      <th>days_employed</th>\n",
       "      <th>dob_years</th>\n",
       "      <th>education</th>\n",
       "      <th>education_id</th>\n",
       "      <th>family_status</th>\n",
       "      <th>family_status_id</th>\n",
       "      <th>gender</th>\n",
       "      <th>income_type</th>\n",
       "      <th>debt</th>\n",
       "      <th>total_income</th>\n",
       "      <th>purpose</th>\n",
       "    </tr>\n",
       "  </thead>\n",
       "  <tbody>\n",
       "    <tr>\n",
       "      <th>0</th>\n",
       "      <td>1</td>\n",
       "      <td>-8437.673028</td>\n",
       "      <td>42</td>\n",
       "      <td>bachelor's degree</td>\n",
       "      <td>0</td>\n",
       "      <td>married</td>\n",
       "      <td>0</td>\n",
       "      <td>F</td>\n",
       "      <td>employee</td>\n",
       "      <td>0</td>\n",
       "      <td>40620.102</td>\n",
       "      <td>purchase of the house</td>\n",
       "    </tr>\n",
       "    <tr>\n",
       "      <th>1</th>\n",
       "      <td>1</td>\n",
       "      <td>-4024.803754</td>\n",
       "      <td>36</td>\n",
       "      <td>secondary education</td>\n",
       "      <td>1</td>\n",
       "      <td>married</td>\n",
       "      <td>0</td>\n",
       "      <td>F</td>\n",
       "      <td>employee</td>\n",
       "      <td>0</td>\n",
       "      <td>17932.802</td>\n",
       "      <td>car purchase</td>\n",
       "    </tr>\n",
       "    <tr>\n",
       "      <th>2</th>\n",
       "      <td>0</td>\n",
       "      <td>-5623.422610</td>\n",
       "      <td>33</td>\n",
       "      <td>Secondary Education</td>\n",
       "      <td>1</td>\n",
       "      <td>married</td>\n",
       "      <td>0</td>\n",
       "      <td>M</td>\n",
       "      <td>employee</td>\n",
       "      <td>0</td>\n",
       "      <td>23341.752</td>\n",
       "      <td>purchase of the house</td>\n",
       "    </tr>\n",
       "    <tr>\n",
       "      <th>3</th>\n",
       "      <td>3</td>\n",
       "      <td>-4124.747207</td>\n",
       "      <td>32</td>\n",
       "      <td>secondary education</td>\n",
       "      <td>1</td>\n",
       "      <td>married</td>\n",
       "      <td>0</td>\n",
       "      <td>M</td>\n",
       "      <td>employee</td>\n",
       "      <td>0</td>\n",
       "      <td>42820.568</td>\n",
       "      <td>supplementary education</td>\n",
       "    </tr>\n",
       "    <tr>\n",
       "      <th>4</th>\n",
       "      <td>0</td>\n",
       "      <td>340266.072047</td>\n",
       "      <td>53</td>\n",
       "      <td>secondary education</td>\n",
       "      <td>1</td>\n",
       "      <td>civil partnership</td>\n",
       "      <td>1</td>\n",
       "      <td>F</td>\n",
       "      <td>retiree</td>\n",
       "      <td>0</td>\n",
       "      <td>25378.572</td>\n",
       "      <td>to have a wedding</td>\n",
       "    </tr>\n",
       "  </tbody>\n",
       "</table>\n",
       "</div>"
      ],
      "text/plain": [
       "   children  days_employed  dob_years            education  education_id  \\\n",
       "0         1   -8437.673028         42    bachelor's degree             0   \n",
       "1         1   -4024.803754         36  secondary education             1   \n",
       "2         0   -5623.422610         33  Secondary Education             1   \n",
       "3         3   -4124.747207         32  secondary education             1   \n",
       "4         0  340266.072047         53  secondary education             1   \n",
       "\n",
       "       family_status  family_status_id gender income_type  debt  total_income  \\\n",
       "0            married                 0      F    employee     0     40620.102   \n",
       "1            married                 0      F    employee     0     17932.802   \n",
       "2            married                 0      M    employee     0     23341.752   \n",
       "3            married                 0      M    employee     0     42820.568   \n",
       "4  civil partnership                 1      F     retiree     0     25378.572   \n",
       "\n",
       "                   purpose  \n",
       "0    purchase of the house  \n",
       "1             car purchase  \n",
       "2    purchase of the house  \n",
       "3  supplementary education  \n",
       "4        to have a wedding  "
      ]
     },
     "execution_count": 3,
     "metadata": {},
     "output_type": "execute_result"
    }
   ],
   "source": [
    "#checking the first few rows of our dataset\n",
    "df.head()"
   ]
  },
  {
   "cell_type": "code",
   "execution_count": 4,
   "id": "1ee68ba2-e9e3-425e-a8b0-b2f705473114",
   "metadata": {},
   "outputs": [
    {
     "name": "stdout",
     "output_type": "stream",
     "text": [
      "<class 'pandas.core.frame.DataFrame'>\n",
      "RangeIndex: 21525 entries, 0 to 21524\n",
      "Data columns (total 12 columns):\n",
      " #   Column            Non-Null Count  Dtype  \n",
      "---  ------            --------------  -----  \n",
      " 0   children          21525 non-null  int64  \n",
      " 1   days_employed     19351 non-null  float64\n",
      " 2   dob_years         21525 non-null  int64  \n",
      " 3   education         21525 non-null  object \n",
      " 4   education_id      21525 non-null  int64  \n",
      " 5   family_status     21525 non-null  object \n",
      " 6   family_status_id  21525 non-null  int64  \n",
      " 7   gender            21525 non-null  object \n",
      " 8   income_type       21525 non-null  object \n",
      " 9   debt              21525 non-null  int64  \n",
      " 10  total_income      19351 non-null  float64\n",
      " 11  purpose           21525 non-null  object \n",
      "dtypes: float64(2), int64(5), object(5)\n",
      "memory usage: 2.0+ MB\n"
     ]
    }
   ],
   "source": [
    "#checking the datatypes\n",
    "df.info()"
   ]
  },
  {
   "cell_type": "code",
   "execution_count": 5,
   "id": "a58e3fb2-a005-48c7-8ccb-c977ace60fda",
   "metadata": {},
   "outputs": [
    {
     "data": {
      "text/plain": [
       "(21525, 12)"
      ]
     },
     "execution_count": 5,
     "metadata": {},
     "output_type": "execute_result"
    }
   ],
   "source": [
    "#checking the structure of our dataset\n",
    "df.shape"
   ]
  },
  {
   "cell_type": "code",
   "execution_count": 6,
   "id": "242a785b-534e-458f-9aff-73ef92e27957",
   "metadata": {},
   "outputs": [
    {
     "data": {
      "text/plain": [
       "children               0\n",
       "days_employed       2174\n",
       "dob_years              0\n",
       "education              0\n",
       "education_id           0\n",
       "family_status          0\n",
       "family_status_id       0\n",
       "gender                 0\n",
       "income_type            0\n",
       "debt                   0\n",
       "total_income        2174\n",
       "purpose                0\n",
       "dtype: int64"
      ]
     },
     "execution_count": 6,
     "metadata": {},
     "output_type": "execute_result"
    }
   ],
   "source": [
    "#checking for null value \n",
    "df.isnull().sum()"
   ]
  },
  {
   "cell_type": "markdown",
   "id": "a3167a24-9f2e-4872-b746-20931ead45f7",
   "metadata": {},
   "source": [
    "## Missing values\n",
    "\n",
    "-`days_employed` column has missing of value of 2174 \n",
    "\n",
    "-`total_income` column also has a missing value of 2174, while other columns have no missing values"
   ]
  },
  {
   "cell_type": "code",
   "execution_count": 7,
   "id": "ccd6ebbf-f331-432f-9515-b8905e3dc1b2",
   "metadata": {},
   "outputs": [
    {
     "data": {
      "text/html": [
       "<div>\n",
       "<style scoped>\n",
       "    .dataframe tbody tr th:only-of-type {\n",
       "        vertical-align: middle;\n",
       "    }\n",
       "\n",
       "    .dataframe tbody tr th {\n",
       "        vertical-align: top;\n",
       "    }\n",
       "\n",
       "    .dataframe thead th {\n",
       "        text-align: right;\n",
       "    }\n",
       "</style>\n",
       "<table border=\"1\" class=\"dataframe\">\n",
       "  <thead>\n",
       "    <tr style=\"text-align: right;\">\n",
       "      <th></th>\n",
       "      <th>children</th>\n",
       "      <th>days_employed</th>\n",
       "      <th>dob_years</th>\n",
       "      <th>education_id</th>\n",
       "      <th>family_status_id</th>\n",
       "      <th>debt</th>\n",
       "      <th>total_income</th>\n",
       "    </tr>\n",
       "  </thead>\n",
       "  <tbody>\n",
       "    <tr>\n",
       "      <th>count</th>\n",
       "      <td>21525.000000</td>\n",
       "      <td>19351.000000</td>\n",
       "      <td>21525.000000</td>\n",
       "      <td>21525.000000</td>\n",
       "      <td>21525.000000</td>\n",
       "      <td>21525.000000</td>\n",
       "      <td>19351.000000</td>\n",
       "    </tr>\n",
       "    <tr>\n",
       "      <th>mean</th>\n",
       "      <td>0.538908</td>\n",
       "      <td>63046.497661</td>\n",
       "      <td>43.293380</td>\n",
       "      <td>0.817236</td>\n",
       "      <td>0.972544</td>\n",
       "      <td>0.080883</td>\n",
       "      <td>26787.568355</td>\n",
       "    </tr>\n",
       "    <tr>\n",
       "      <th>std</th>\n",
       "      <td>1.381587</td>\n",
       "      <td>140827.311974</td>\n",
       "      <td>12.574584</td>\n",
       "      <td>0.548138</td>\n",
       "      <td>1.420324</td>\n",
       "      <td>0.272661</td>\n",
       "      <td>16475.450632</td>\n",
       "    </tr>\n",
       "    <tr>\n",
       "      <th>min</th>\n",
       "      <td>-1.000000</td>\n",
       "      <td>-18388.949901</td>\n",
       "      <td>0.000000</td>\n",
       "      <td>0.000000</td>\n",
       "      <td>0.000000</td>\n",
       "      <td>0.000000</td>\n",
       "      <td>3306.762000</td>\n",
       "    </tr>\n",
       "    <tr>\n",
       "      <th>25%</th>\n",
       "      <td>0.000000</td>\n",
       "      <td>-2747.423625</td>\n",
       "      <td>33.000000</td>\n",
       "      <td>1.000000</td>\n",
       "      <td>0.000000</td>\n",
       "      <td>0.000000</td>\n",
       "      <td>16488.504500</td>\n",
       "    </tr>\n",
       "    <tr>\n",
       "      <th>50%</th>\n",
       "      <td>0.000000</td>\n",
       "      <td>-1203.369529</td>\n",
       "      <td>42.000000</td>\n",
       "      <td>1.000000</td>\n",
       "      <td>0.000000</td>\n",
       "      <td>0.000000</td>\n",
       "      <td>23202.870000</td>\n",
       "    </tr>\n",
       "    <tr>\n",
       "      <th>75%</th>\n",
       "      <td>1.000000</td>\n",
       "      <td>-291.095954</td>\n",
       "      <td>53.000000</td>\n",
       "      <td>1.000000</td>\n",
       "      <td>1.000000</td>\n",
       "      <td>0.000000</td>\n",
       "      <td>32549.611000</td>\n",
       "    </tr>\n",
       "    <tr>\n",
       "      <th>max</th>\n",
       "      <td>20.000000</td>\n",
       "      <td>401755.400475</td>\n",
       "      <td>75.000000</td>\n",
       "      <td>4.000000</td>\n",
       "      <td>4.000000</td>\n",
       "      <td>1.000000</td>\n",
       "      <td>362496.645000</td>\n",
       "    </tr>\n",
       "  </tbody>\n",
       "</table>\n",
       "</div>"
      ],
      "text/plain": [
       "           children  days_employed     dob_years  education_id  \\\n",
       "count  21525.000000   19351.000000  21525.000000  21525.000000   \n",
       "mean       0.538908   63046.497661     43.293380      0.817236   \n",
       "std        1.381587  140827.311974     12.574584      0.548138   \n",
       "min       -1.000000  -18388.949901      0.000000      0.000000   \n",
       "25%        0.000000   -2747.423625     33.000000      1.000000   \n",
       "50%        0.000000   -1203.369529     42.000000      1.000000   \n",
       "75%        1.000000    -291.095954     53.000000      1.000000   \n",
       "max       20.000000  401755.400475     75.000000      4.000000   \n",
       "\n",
       "       family_status_id          debt   total_income  \n",
       "count      21525.000000  21525.000000   19351.000000  \n",
       "mean           0.972544      0.080883   26787.568355  \n",
       "std            1.420324      0.272661   16475.450632  \n",
       "min            0.000000      0.000000    3306.762000  \n",
       "25%            0.000000      0.000000   16488.504500  \n",
       "50%            0.000000      0.000000   23202.870000  \n",
       "75%            1.000000      0.000000   32549.611000  \n",
       "max            4.000000      1.000000  362496.645000  "
      ]
     },
     "execution_count": 7,
     "metadata": {},
     "output_type": "execute_result"
    }
   ],
   "source": [
    "#checking the description of our data\n",
    "df.describe()"
   ]
  },
  {
   "cell_type": "markdown",
   "id": "f42d7b9d-346f-4416-8b01-5dc437582bf3",
   "metadata": {},
   "source": [
    "From the describe() method, for the column `days_employed`, the mean is 63046 and the median is -1203.36. This means that the dataset contains significant outliers. For the column `total_income`, the mean is 26787 and the median is 23202. We could likely replace missing values in this column with the mean or median. Checking through the missing values, we observe that the missing values exhibit a 'systematic' pattern. For each rows with missing data, the days_employed and total_income values are all missing. This means the data is \"Missing not at random (MNAR)\". That means those who refused to give information about the days employed will likely not give information about their total income. The best option would be to drop those rows with missing value to avoid introducing \"variance\" or \"bias\" into our analysis. Moreover, since the sample size is large enough, we can drop the 10% of the missing data without substantial loss of statistical power."
   ]
  },
  {
   "cell_type": "code",
   "execution_count": 8,
   "id": "1b2052d8-d174-4d5a-b4e5-a8cc6fe0240a",
   "metadata": {},
   "outputs": [
    {
     "name": "stdout",
     "output_type": "stream",
     "text": [
      "Count of missing days employed by gender\n",
      "gender\n",
      "F    1484\n",
      "M     690\n",
      "Name: count, dtype: int64\n",
      "\n",
      "Count of total income missing by gender\n",
      "gender\n",
      "F    1484\n",
      "M     690\n",
      "Name: count, dtype: int64\n"
     ]
    }
   ],
   "source": [
    "# count of missing data by gender\n",
    "print('Count of missing days employed by gender')\n",
    "print(df[df['days_employed'].isnull()]['gender'].value_counts())\n",
    "\n",
    "print()\n",
    "print('Count of total income missing by gender')\n",
    "print(df[df['total_income'].isnull()]['gender'].value_counts())"
   ]
  },
  {
   "cell_type": "markdown",
   "id": "0da909ac-2f1c-41d6-89c4-a537dd0b681b",
   "metadata": {},
   "source": [
    "The count of missing data by gender shows that the data is missing not at random. i.e. same number of both gender are missing in the days_employed and total_income columns."
   ]
  },
  {
   "cell_type": "code",
   "execution_count": 9,
   "id": "0706c72d-2f9c-4c36-840f-8ee72d5943bc",
   "metadata": {},
   "outputs": [],
   "source": [
    "#dropping row with missing values\n",
    "credit_score_df = df.dropna().reset_index(drop=True)"
   ]
  },
  {
   "cell_type": "code",
   "execution_count": 10,
   "id": "2c5c38c1-2c99-484f-937b-09d02b577eac",
   "metadata": {},
   "outputs": [
    {
     "data": {
      "text/plain": [
       "False"
      ]
     },
     "execution_count": 10,
     "metadata": {},
     "output_type": "execute_result"
    }
   ],
   "source": [
    "#cross checking if we still have missing data\n",
    "credit_score_df.isnull().sum().all()"
   ]
  },
  {
   "cell_type": "code",
   "execution_count": 11,
   "id": "7a44e9ba-9415-4a75-ac68-9fd045089eb4",
   "metadata": {},
   "outputs": [
    {
     "data": {
      "text/plain": [
       "children                8\n",
       "days_employed       19351\n",
       "dob_years              58\n",
       "education              15\n",
       "education_id            5\n",
       "family_status           5\n",
       "family_status_id        5\n",
       "gender                  3\n",
       "income_type             8\n",
       "debt                    2\n",
       "total_income        19348\n",
       "purpose                38\n",
       "dtype: int64"
      ]
     },
     "execution_count": 11,
     "metadata": {},
     "output_type": "execute_result"
    }
   ],
   "source": [
    "#Checking for unique entry into our dataset\n",
    "credit_score_df.nunique()"
   ]
  },
  {
   "cell_type": "code",
   "execution_count": 12,
   "id": "f06cae06-3f5d-4917-8873-4684c1990d05",
   "metadata": {},
   "outputs": [
    {
     "data": {
      "text/plain": [
       "array([ 1,  0,  3,  2, -1,  4, 20,  5], dtype=int64)"
      ]
     },
     "execution_count": 12,
     "metadata": {},
     "output_type": "execute_result"
    }
   ],
   "source": [
    "#checking number of unique entry for children column\n",
    "credit_score_df[\"children\"].unique()"
   ]
  },
  {
   "cell_type": "code",
   "execution_count": 13,
   "id": "52d44ba2-70eb-40ea-a055-e9f4e724b5d5",
   "metadata": {},
   "outputs": [
    {
     "data": {
      "text/plain": [
       "array([-8437.67302776, -4024.80375385, -5623.42261023, ...,\n",
       "       -2113.3468877 , -3112.4817052 , -1984.50758853])"
      ]
     },
     "execution_count": 13,
     "metadata": {},
     "output_type": "execute_result"
    }
   ],
   "source": [
    "#checking number of unique entry for days_employed\n",
    "credit_score_df[\"days_employed\"].unique()"
   ]
  },
  {
   "cell_type": "code",
   "execution_count": 14,
   "id": "5155ff09-9968-4dda-96de-1182c57a3d81",
   "metadata": {},
   "outputs": [
    {
     "data": {
      "text/plain": [
       "array([\"bachelor's degree\", 'secondary education', 'Secondary Education',\n",
       "       'SECONDARY EDUCATION', \"BACHELOR'S DEGREE\", 'some college',\n",
       "       'primary education', \"Bachelor's Degree\", 'SOME COLLEGE',\n",
       "       'Some College', 'PRIMARY EDUCATION', 'Primary Education',\n",
       "       'Graduate Degree', 'GRADUATE DEGREE', 'graduate degree'],\n",
       "      dtype=object)"
      ]
     },
     "execution_count": 14,
     "metadata": {},
     "output_type": "execute_result"
    }
   ],
   "source": [
    "#checking number of unique entry for education\n",
    "credit_score_df[\"education\"].unique()"
   ]
  },
  {
   "cell_type": "code",
   "execution_count": 15,
   "id": "431a738c-43a7-4629-bf76-567232708668",
   "metadata": {},
   "outputs": [
    {
     "data": {
      "text/plain": [
       "array(['married', 'civil partnership', 'widow / widower', 'divorced',\n",
       "       'unmarried'], dtype=object)"
      ]
     },
     "execution_count": 15,
     "metadata": {},
     "output_type": "execute_result"
    }
   ],
   "source": [
    "#checking number of unique entry for family_status  \n",
    "credit_score_df[\"family_status\"].unique()"
   ]
  },
  {
   "cell_type": "code",
   "execution_count": 16,
   "id": "60dd4837-a0a2-4ec9-b5a6-5e5835ebef38",
   "metadata": {},
   "outputs": [
    {
     "data": {
      "text/plain": [
       "array(['F', 'M', 'XNA'], dtype=object)"
      ]
     },
     "execution_count": 16,
     "metadata": {},
     "output_type": "execute_result"
    }
   ],
   "source": [
    "#checking number of unique entry for gender  \n",
    "credit_score_df[\"gender\"].unique()"
   ]
  },
  {
   "cell_type": "code",
   "execution_count": 17,
   "id": "fa93a0de-df6d-4f3e-856f-abd40b435c84",
   "metadata": {},
   "outputs": [
    {
     "data": {
      "text/plain": [
       "array(['employee', 'retiree', 'business', 'civil servant', 'unemployed',\n",
       "       'student', 'entrepreneur', 'paternity / maternity leave'],\n",
       "      dtype=object)"
      ]
     },
     "execution_count": 17,
     "metadata": {},
     "output_type": "execute_result"
    }
   ],
   "source": [
    "#checking number of unique entry for income_type  \n",
    "credit_score_df[\"income_type\"].unique()"
   ]
  },
  {
   "cell_type": "code",
   "execution_count": 18,
   "id": "be898a97-bbbd-4cc9-9257-7e44cac1b677",
   "metadata": {},
   "outputs": [
    {
     "data": {
      "text/plain": [
       "array(['purchase of the house', 'car purchase', 'supplementary education',\n",
       "       'to have a wedding', 'housing transactions', 'education',\n",
       "       'having a wedding', 'purchase of the house for my family',\n",
       "       'buy real estate', 'buy commercial real estate',\n",
       "       'buy residential real estate', 'construction of own property',\n",
       "       'property', 'building a property', 'buying a second-hand car',\n",
       "       'buying my own car', 'transactions with commercial real estate',\n",
       "       'housing', 'transactions with my real estate', 'cars',\n",
       "       'to become educated', 'getting an education',\n",
       "       'second-hand car purchase', 'car', 'wedding ceremony',\n",
       "       'to get a supplementary education', 'purchase of my own house',\n",
       "       'real estate transactions', 'getting higher education',\n",
       "       'to own a car', 'purchase of a car', 'profile education',\n",
       "       'university education', 'buying property for renting out',\n",
       "       'to buy a car', 'building a real estate', 'housing renovation',\n",
       "       'going to university'], dtype=object)"
      ]
     },
     "execution_count": 18,
     "metadata": {},
     "output_type": "execute_result"
    }
   ],
   "source": [
    "#checking number of unique entry for purpose  \n",
    "credit_score_df[\"purpose\"].unique()"
   ]
  },
  {
   "cell_type": "markdown",
   "id": "2393e4ef-68be-4c17-9d20-bd8e8dfa7134",
   "metadata": {},
   "source": [
    "# Conclusion\n",
    "\n",
    "From the Data Preprocessing section, we computed the number of missing values per column and the percentage of missing values per column. We can see that 10% of rows are missing `days_employed` and `total_income`. Since the type of data with missing values are quantitative, and the data are \"Missing not at random\", we proceed to drop those rows with missing values. We drop missing rows because 10% of missing values would not really skew our analysis. We also checked for uniqueness in our dataset. We found out that:\n",
    "\n",
    "`children` has a negative value of -1 so we have to deal with it\n",
    "\n",
    "`days_employed` have negative value of days. We have to take the absolute value for our analysis to be accurate\n",
    "\n",
    "`education` has duplicate data\n",
    "\n",
    "`gender` has an 'XNA' entry. Since there is no logical way to decide whether that entry is for a male or female, we would have to drop that row.\n",
    "\n",
    "## Data type replacement\n",
    "After dropping rows, we still observe that the `days_employed` and `total_income` are of float datatype. We need to replace data type and convert from 'float' to 'int'."
   ]
  },
  {
   "cell_type": "code",
   "execution_count": 22,
   "id": "e3dc4c6e-2aeb-4002-85bf-14d30a2c2d0f",
   "metadata": {},
   "outputs": [
    {
     "name": "stdout",
     "output_type": "stream",
     "text": [
      "<class 'pandas.core.frame.DataFrame'>\n",
      "RangeIndex: 19351 entries, 0 to 19350\n",
      "Data columns (total 12 columns):\n",
      " #   Column            Non-Null Count  Dtype  \n",
      "---  ------            --------------  -----  \n",
      " 0   children          19351 non-null  int64  \n",
      " 1   days_employed     19351 non-null  float64\n",
      " 2   dob_years         19351 non-null  int64  \n",
      " 3   education         19351 non-null  object \n",
      " 4   education_id      19351 non-null  int64  \n",
      " 5   family_status     19351 non-null  object \n",
      " 6   family_status_id  19351 non-null  int64  \n",
      " 7   gender            19351 non-null  object \n",
      " 8   income_type       19351 non-null  object \n",
      " 9   debt              19351 non-null  int64  \n",
      " 10  total_income      19351 non-null  float64\n",
      " 11  purpose           19351 non-null  object \n",
      "dtypes: float64(2), int64(5), object(5)\n",
      "memory usage: 1.8+ MB\n"
     ]
    }
   ],
   "source": [
    "#checking data types\n",
    "credit_score_df.info()"
   ]
  },
  {
   "cell_type": "code",
   "execution_count": 25,
   "id": "f869a627-ea9d-4dfe-8108-a195cc41b912",
   "metadata": {},
   "outputs": [],
   "source": [
    "#changing data types from float to int\n",
    "credit_score_df['days_employed'] = credit_score_df['days_employed'].astype('int')\n",
    "credit_score_df['total_income'] = credit_score_df['total_income'].astype('int')"
   ]
  },
  {
   "cell_type": "code",
   "execution_count": 26,
   "id": "02805dd2-fb30-4642-b9d3-0098bbd5ed03",
   "metadata": {},
   "outputs": [
    {
     "name": "stdout",
     "output_type": "stream",
     "text": [
      "<class 'pandas.core.frame.DataFrame'>\n",
      "RangeIndex: 19351 entries, 0 to 19350\n",
      "Data columns (total 12 columns):\n",
      " #   Column            Non-Null Count  Dtype \n",
      "---  ------            --------------  ----- \n",
      " 0   children          19351 non-null  int64 \n",
      " 1   days_employed     19351 non-null  int32 \n",
      " 2   dob_years         19351 non-null  int64 \n",
      " 3   education         19351 non-null  object\n",
      " 4   education_id      19351 non-null  int64 \n",
      " 5   family_status     19351 non-null  object\n",
      " 6   family_status_id  19351 non-null  int64 \n",
      " 7   gender            19351 non-null  object\n",
      " 8   income_type       19351 non-null  object\n",
      " 9   debt              19351 non-null  int64 \n",
      " 10  total_income      19351 non-null  int32 \n",
      " 11  purpose           19351 non-null  object\n",
      "dtypes: int32(2), int64(5), object(5)\n",
      "memory usage: 1.6+ MB\n"
     ]
    }
   ],
   "source": [
    "#cross checking our data types\n",
    "credit_score_df.info()"
   ]
  },
  {
   "cell_type": "markdown",
   "id": "5ca0a333-a925-421b-ac10-cd8acc7c1d4f",
   "metadata": {},
   "source": [
    "## Conclusion\n",
    "\n",
    "`days_employed` and `total_income` column data types have been successfully changed from float to an int data types"
   ]
  },
  {
   "cell_type": "code",
   "execution_count": 27,
   "id": "3495d626-9a1d-4b86-98f8-b984b839d25a",
   "metadata": {},
   "outputs": [
    {
     "data": {
      "text/html": [
       "<div>\n",
       "<style scoped>\n",
       "    .dataframe tbody tr th:only-of-type {\n",
       "        vertical-align: middle;\n",
       "    }\n",
       "\n",
       "    .dataframe tbody tr th {\n",
       "        vertical-align: top;\n",
       "    }\n",
       "\n",
       "    .dataframe thead th {\n",
       "        text-align: right;\n",
       "    }\n",
       "</style>\n",
       "<table border=\"1\" class=\"dataframe\">\n",
       "  <thead>\n",
       "    <tr style=\"text-align: right;\">\n",
       "      <th></th>\n",
       "      <th>children</th>\n",
       "      <th>days_employed</th>\n",
       "      <th>dob_years</th>\n",
       "      <th>education_id</th>\n",
       "      <th>family_status_id</th>\n",
       "      <th>debt</th>\n",
       "      <th>total_income</th>\n",
       "    </tr>\n",
       "  </thead>\n",
       "  <tbody>\n",
       "    <tr>\n",
       "      <th>count</th>\n",
       "      <td>19351.000000</td>\n",
       "      <td>19351.000000</td>\n",
       "      <td>19351.000000</td>\n",
       "      <td>19351.000000</td>\n",
       "      <td>19351.000000</td>\n",
       "      <td>19351.000000</td>\n",
       "      <td>19351.000000</td>\n",
       "    </tr>\n",
       "    <tr>\n",
       "      <th>mean</th>\n",
       "      <td>0.537388</td>\n",
       "      <td>63046.818717</td>\n",
       "      <td>43.255336</td>\n",
       "      <td>0.819079</td>\n",
       "      <td>0.972249</td>\n",
       "      <td>0.081184</td>\n",
       "      <td>26787.071262</td>\n",
       "    </tr>\n",
       "    <tr>\n",
       "      <th>std</th>\n",
       "      <td>1.371408</td>\n",
       "      <td>140826.930322</td>\n",
       "      <td>12.579170</td>\n",
       "      <td>0.550104</td>\n",
       "      <td>1.420596</td>\n",
       "      <td>0.273125</td>\n",
       "      <td>16475.452412</td>\n",
       "    </tr>\n",
       "    <tr>\n",
       "      <th>min</th>\n",
       "      <td>-1.000000</td>\n",
       "      <td>-18388.000000</td>\n",
       "      <td>0.000000</td>\n",
       "      <td>0.000000</td>\n",
       "      <td>0.000000</td>\n",
       "      <td>0.000000</td>\n",
       "      <td>3306.000000</td>\n",
       "    </tr>\n",
       "    <tr>\n",
       "      <th>25%</th>\n",
       "      <td>0.000000</td>\n",
       "      <td>-2747.000000</td>\n",
       "      <td>33.000000</td>\n",
       "      <td>1.000000</td>\n",
       "      <td>0.000000</td>\n",
       "      <td>0.000000</td>\n",
       "      <td>16488.000000</td>\n",
       "    </tr>\n",
       "    <tr>\n",
       "      <th>50%</th>\n",
       "      <td>0.000000</td>\n",
       "      <td>-1203.000000</td>\n",
       "      <td>42.000000</td>\n",
       "      <td>1.000000</td>\n",
       "      <td>0.000000</td>\n",
       "      <td>0.000000</td>\n",
       "      <td>23202.000000</td>\n",
       "    </tr>\n",
       "    <tr>\n",
       "      <th>75%</th>\n",
       "      <td>1.000000</td>\n",
       "      <td>-291.000000</td>\n",
       "      <td>53.000000</td>\n",
       "      <td>1.000000</td>\n",
       "      <td>1.000000</td>\n",
       "      <td>0.000000</td>\n",
       "      <td>32549.500000</td>\n",
       "    </tr>\n",
       "    <tr>\n",
       "      <th>max</th>\n",
       "      <td>20.000000</td>\n",
       "      <td>401755.000000</td>\n",
       "      <td>75.000000</td>\n",
       "      <td>4.000000</td>\n",
       "      <td>4.000000</td>\n",
       "      <td>1.000000</td>\n",
       "      <td>362496.000000</td>\n",
       "    </tr>\n",
       "  </tbody>\n",
       "</table>\n",
       "</div>"
      ],
      "text/plain": [
       "           children  days_employed     dob_years  education_id  \\\n",
       "count  19351.000000   19351.000000  19351.000000  19351.000000   \n",
       "mean       0.537388   63046.818717     43.255336      0.819079   \n",
       "std        1.371408  140826.930322     12.579170      0.550104   \n",
       "min       -1.000000  -18388.000000      0.000000      0.000000   \n",
       "25%        0.000000   -2747.000000     33.000000      1.000000   \n",
       "50%        0.000000   -1203.000000     42.000000      1.000000   \n",
       "75%        1.000000    -291.000000     53.000000      1.000000   \n",
       "max       20.000000  401755.000000     75.000000      4.000000   \n",
       "\n",
       "       family_status_id          debt   total_income  \n",
       "count      19351.000000  19351.000000   19351.000000  \n",
       "mean           0.972249      0.081184   26787.071262  \n",
       "std            1.420596      0.273125   16475.452412  \n",
       "min            0.000000      0.000000    3306.000000  \n",
       "25%            0.000000      0.000000   16488.000000  \n",
       "50%            0.000000      0.000000   23202.000000  \n",
       "75%            1.000000      0.000000   32549.500000  \n",
       "max            4.000000      1.000000  362496.000000  "
      ]
     },
     "execution_count": 27,
     "metadata": {},
     "output_type": "execute_result"
    }
   ],
   "source": [
    "credit_score_df.describe()"
   ]
  },
  {
   "cell_type": "code",
   "execution_count": 32,
   "id": "25c0be07-659b-47f5-9e56-dbca70e6b683",
   "metadata": {},
   "outputs": [
    {
     "data": {
      "text/plain": [
       "children\n",
       "0     12754\n",
       "1      4343\n",
       "2      1851\n",
       "3       294\n",
       "20       67\n",
       "4        34\n",
       "5         8\n",
       "Name: count, dtype: int64"
      ]
     },
     "execution_count": 32,
     "metadata": {},
     "output_type": "execute_result"
    }
   ],
   "source": [
    "#converting negative value(-1) in the children column to a positive value(1)\n",
    "credit_score_df.loc[credit_score_df[\"children\"] == -1, \"children\"] = 0\n",
    "\n",
    "#checking value of conversion\n",
    "credit_score_df[\"children\"].value_counts()"
   ]
  },
  {
   "cell_type": "markdown",
   "id": "cf9737b6-106d-4b3e-906a-8992c7731587",
   "metadata": {},
   "source": [
    "From the value counts, it is quite evident that our negative value has been replaced with 0 with a total value of 12754"
   ]
  },
  {
   "cell_type": "code",
   "execution_count": 50,
   "id": "b32afe74-dea9-4b16-b745-9692ac014767",
   "metadata": {},
   "outputs": [
    {
     "name": "stdout",
     "output_type": "stream",
     "text": [
      "Unique gender are: ['F' 'M']\n",
      "------------------------------------------\n",
      "The new shape of our dataframe is (19350, 12)\n"
     ]
    }
   ],
   "source": [
    "#locate index of gender row with 'XNA'\n",
    "i = credit_score_df[(credit_score_df['gender'] == 'XNA')].index\n",
    "\n",
    "# drop row in gender with XNA\n",
    "credit_score_df = credit_score_df.drop(i) \n",
    "print('Unique gender are:', credit_score_df['gender'].unique())\n",
    "print('------------------------------------------')\n",
    "print('The new shape of our dataframe is', credit_score_df.shape)"
   ]
  },
  {
   "cell_type": "code",
   "execution_count": 40,
   "id": "cbf2e921-973a-4b3f-a519-67f26e50e8c9",
   "metadata": {},
   "outputs": [
    {
     "data": {
      "text/plain": [
       "0      8437\n",
       "1      4024\n",
       "2      5623\n",
       "3      4124\n",
       "4    340266\n",
       "5       926\n",
       "6      2879\n",
       "7       152\n",
       "8      6929\n",
       "9      2188\n",
       "Name: days_employed, dtype: int32"
      ]
     },
     "execution_count": 40,
     "metadata": {},
     "output_type": "execute_result"
    }
   ],
   "source": [
    "# convert negative 'days_employed' to positive values\n",
    "credit_score_df['days_employed'] = abs(credit_score_df['days_employed'])\n",
    "credit_score_df['days_employed'].head(10)"
   ]
  },
  {
   "cell_type": "code",
   "execution_count": 48,
   "id": "ddf3d01e-b4ce-4032-9760-4729898c866d",
   "metadata": {},
   "outputs": [
    {
     "name": "stdout",
     "output_type": "stream",
     "text": [
      "Sum of duplicated values in education is : 19335\n",
      "-----------------------------------------------------\n",
      "Value counts of duplicated values in education\n",
      "secondary education    12342\n",
      "bachelor's degree       4222\n",
      "SECONDARY EDUCATION      705\n",
      "Secondary Education      646\n",
      "some college             612\n",
      "BACHELOR'S DEGREE        251\n",
      "Bachelor's Degree        243\n",
      "primary education        231\n",
      "Some College              40\n",
      "SOME COLLEGE              22\n",
      "PRIMARY EDUCATION         16\n",
      "Primary Education         14\n",
      "graduate degree            4\n",
      "Graduate Degree            1\n",
      "GRADUATE DEGREE            1\n",
      "Name: count, dtype: int64\n"
     ]
    }
   ],
   "source": [
    "#checking for duplicates in the education column\n",
    "duplicated = credit_score_df['education'].duplicated().sum()\n",
    "print('Sum of duplicated values in education is :', duplicated)\n",
    "print('-----------------------------------------------------')\n",
    "#checking value counts\n",
    "value_counts = credit_score_df['education'].value_counts()\n",
    "print('Value counts of duplicated values in', value_counts)\n",
    "\n"
   ]
  },
  {
   "cell_type": "code",
   "execution_count": 52,
   "id": "ef1a9f3a-bfb8-48da-bc94-39242d3f0327",
   "metadata": {},
   "outputs": [
    {
     "data": {
      "text/plain": [
       "education\n",
       "secondary education    13693\n",
       "bachelor's degree       4716\n",
       "some college             674\n",
       "primary education        261\n",
       "graduate degree            6\n",
       "Name: count, dtype: int64"
      ]
     },
     "execution_count": 52,
     "metadata": {},
     "output_type": "execute_result"
    }
   ],
   "source": [
    "#preprocessing duplicates in 'education' column\n",
    "credit_score_df['education'] = credit_score_df['education'].str.lower()\n",
    "credit_score_df['education'].value_counts()"
   ]
  },
  {
   "cell_type": "code",
   "execution_count": 53,
   "id": "49e3eb75-e7fa-4134-b202-1c7c0661c9eb",
   "metadata": {},
   "outputs": [
    {
     "data": {
      "text/plain": [
       "array([\"bachelor's degree\", 'secondary education', 'some college',\n",
       "       'primary education', 'graduate degree'], dtype=object)"
      ]
     },
     "execution_count": 53,
     "metadata": {},
     "output_type": "execute_result"
    }
   ],
   "source": [
    "credit_score_df['education'].unique()"
   ]
  },
  {
   "cell_type": "code",
   "execution_count": 54,
   "id": "dd20ffca-22dd-4e99-93f4-19af40e27262",
   "metadata": {},
   "outputs": [
    {
     "data": {
      "text/plain": [
       "purpose\n",
       "wedding                                     721\n",
       "to have a wedding                           693\n",
       "having a wedding                            685\n",
       "real estate transactions                    615\n",
       "buy commercial real estate                  597\n",
       "purchase of the house                       595\n",
       "buying property for renting out             588\n",
       "housing                                     587\n",
       "transactions with commercial real estate    581\n",
       "building a real estate                      580\n",
       "housing transactions                        579\n",
       "purchase of my own house                    574\n",
       "property                                    572\n",
       "purchase of the house for my family         570\n",
       "building a property                         561\n",
       "construction of own property                560\n",
       "transactions with my real estate            559\n",
       "buy real estate                             551\n",
       "buy residential real estate                 546\n",
       "housing renovation                          542\n",
       "car                                         454\n",
       "buying my own car                           452\n",
       "to buy a car                                442\n",
       "going to university                         440\n",
       "buying a second-hand car                    437\n",
       "second-hand car purchase                    435\n",
       "to own a car                                428\n",
       "cars                                        421\n",
       "car purchase                                419\n",
       "supplementary education                     414\n",
       "university education                        413\n",
       "purchase of a car                           409\n",
       "education                                   405\n",
       "to get a supplementary education            396\n",
       "getting an education                        393\n",
       "getting higher education                    390\n",
       "profile education                           389\n",
       "to become educated                          357\n",
       "Name: count, dtype: int64"
      ]
     },
     "execution_count": 54,
     "metadata": {},
     "output_type": "execute_result"
    }
   ],
   "source": [
    "# processing duplicates in 'purpose' column\n",
    "credit_score_df['purpose'] = credit_score_df['purpose'].str.lower()\n",
    "credit_score_df['purpose'] = credit_score_df['purpose'].replace(['wedding ceremony'], 'wedding')\n",
    "credit_score_df['purpose'].value_counts().sort_values(ascending=False)"
   ]
  },
  {
   "cell_type": "code",
   "execution_count": 58,
   "id": "dde67600-8498-4824-9676-04e243b0b45a",
   "metadata": {},
   "outputs": [
    {
     "name": "stderr",
     "output_type": "stream",
     "text": [
      "[nltk_data] Downloading package punkt to\n",
      "[nltk_data]     C:\\Users\\USER\\AppData\\Roaming\\nltk_data...\n",
      "[nltk_data]   Package punkt is already up-to-date!\n",
      "[nltk_data] Downloading package wordnet to\n",
      "[nltk_data]     C:\\Users\\USER\\AppData\\Roaming\\nltk_data...\n",
      "[nltk_data]   Package wordnet is already up-to-date!\n"
     ]
    },
    {
     "name": "stdout",
     "output_type": "stream",
     "text": [
      "Counter({'a': 4631, 'real': 4029, 'estate': 4029, 'car': 3897, 'purchase': 3002, 'education': 2800, 'to': 2756, 'of': 2708, 'transaction': 2334, 'property': 2281, 'my': 2155, 'buy': 2136, 'wedding': 2099, 'own': 2014, 'house': 1739, 'housing': 1708, 'buying': 1477, 'commercial': 1178, 'the': 1165, 'for': 1158, 'building': 1141, 'with': 1140, 'second-hand': 872, 'university': 853, 'supplementary': 810, 'getting': 783, 'have': 693, 'having': 685, 'renting': 588, 'out': 588, 'family': 570, 'construction': 560, 'residential': 546, 'renovation': 542, 'going': 440, 'get': 396, 'an': 393, 'higher': 390, 'profile': 389, 'become': 357, 'educated': 357})\n"
     ]
    }
   ],
   "source": [
    "import nltk\n",
    "from nltk.stem import WordNetLemmatizer\n",
    "\n",
    "# Download the 'punkt' resource\n",
    "nltk.download('punkt')\n",
    "\n",
    "# Download the 'wordnet' resource\n",
    "nltk.download('wordnet') # This line is added to download wordnet\n",
    "\n",
    "#preprocessing duplicates in 'education' column\n",
    "# checking frequency of words in 'purpose' column\n",
    "allwords = ' '.join(map(str, credit_score_df['purpose']))\n",
    "allwords = allwords.lower()\n",
    "\n",
    "wordnet_lemma = WordNetLemmatizer()\n",
    "\n",
    "# change allwords to a list or words\n",
    "allwords = nltk.word_tokenize(allwords)\n",
    "\n",
    "# find and save the lemma of each word\n",
    "lemmas = [wordnet_lemma.lemmatize(w, pos = 'n') for w in allwords]\n",
    "\n",
    "\n",
    "from collections import Counter\n",
    "\n",
    "# print the frequency of each lemma\n",
    "print(Counter(lemmas))"
   ]
  },
  {
   "cell_type": "markdown",
   "id": "a538b3bf-d967-464c-80c6-3efa5e0869ba",
   "metadata": {},
   "source": [
    "# Conclusion\n",
    "As we have observed, the duplicate data in the education column may have occured when more than one analysts is involved in data collection and entry. One analyst prefers to write item names using ALL CAPS, another uses maybe Lower case. We have been able to process the duplicates in the education column by using str.lower() method in pandas. We also carried out lemmatization on the purpose column."
   ]
  },
  {
   "cell_type": "code",
   "execution_count": 59,
   "id": "91e07407-49eb-4d7c-bdc0-da9aabecc170",
   "metadata": {},
   "outputs": [],
   "source": [
    "# recategorize words in 'purpose'\n",
    "credit_score_df['purpose'] = credit_score_df['purpose'].replace(\n",
    "    ['supplementary education', 'university education', 'education', 'to get a supplementary education', 'getting an education', \n",
    "     'getting higher education', 'profile education', 'to become educated', 'going to university'], 'education'\n",
    ")\n",
    "\n",
    "credit_score_df['purpose'] = credit_score_df['purpose'].replace(\n",
    "    ['wedding', 'to have a wedding', 'having a wedding'], 'wedding'\n",
    ")\n",
    "\n",
    "credit_score_df['purpose'] = credit_score_df['purpose'].replace(\n",
    "    ['real estate transactions', 'buy commercial real estate', 'building a real estate', 'transactions with commercial real estate', \n",
    "     'transactions with my real estate', 'buy real estate', 'buy residential real estate'], 'real estate'\n",
    ")\n",
    "\n",
    "credit_score_df['purpose'] = credit_score_df['purpose'].replace(\n",
    "    ['buying property for renting out', 'construction of own property', 'property', 'building a property'], 'property'\n",
    ")\n",
    "\n",
    "credit_score_df['purpose'] = credit_score_df['purpose'].replace(\n",
    "    ['purchase of the house', 'housing', 'housing transactions', 'purchase of my own house', \n",
    "     'purchase of the house for my family', 'housing renovation'], 'house purchase'\n",
    ")\n",
    "\n",
    "credit_score_df['purpose'] = credit_score_df['purpose'].replace(\n",
    "    ['car', 'buying my own car', 'to buy a car', 'buying a second-hand car', 'second-hand car purchase', 'to own a car', \n",
    "     'cars', 'car purchase', 'purchase of a car'], 'car purchase'\n",
    ")"
   ]
  },
  {
   "cell_type": "code",
   "execution_count": 61,
   "id": "02113e23-feb3-46d6-89a5-3db778952591",
   "metadata": {},
   "outputs": [
    {
     "data": {
      "text/plain": [
       "0    house purchase\n",
       "1      car purchase\n",
       "2    house purchase\n",
       "3         education\n",
       "4           wedding\n",
       "Name: purpose, dtype: object"
      ]
     },
     "execution_count": 61,
     "metadata": {},
     "output_type": "execute_result"
    }
   ],
   "source": [
    "credit_score_df['purpose'].head()"
   ]
  },
  {
   "cell_type": "code",
   "execution_count": 62,
   "id": "2ad32c80-830a-4ae9-ac49-2fb67da90938",
   "metadata": {},
   "outputs": [],
   "source": [
    "#create copy of dataframe to use for encoding\n",
    "credit_score_df_encode = credit_score_df.copy()"
   ]
  },
  {
   "cell_type": "code",
   "execution_count": 64,
   "id": "0998aeee-b92c-41eb-a940-fd796ec9be57",
   "metadata": {},
   "outputs": [
    {
     "data": {
      "text/plain": [
       "array([\"bachelor's degree\", 'secondary education', 'some college',\n",
       "       'primary education', 'graduate degree'], dtype=object)"
      ]
     },
     "execution_count": 64,
     "metadata": {},
     "output_type": "execute_result"
    }
   ],
   "source": [
    "credit_score_df['education'].unique()"
   ]
  },
  {
   "cell_type": "code",
   "execution_count": 68,
   "id": "befd920d-6772-4cd9-b74e-ebcbfdecefea",
   "metadata": {},
   "outputs": [
    {
     "name": "stdout",
     "output_type": "stream",
     "text": [
      "{'education': {'primary education': 1, 'secondary education': 2, 'some college': 3, \"bachelor's degree\": 4, 'graduate degree': 5}}\n"
     ]
    }
   ],
   "source": [
    "#Encoding education column\n",
    "education_encode = {'education' : {\"primary education\" : 1, \"secondary education\" : 2, \"some college\" : 3, \n",
    "                \"bachelor's degree\" : 4, \"graduate degree\" : 5} }\n",
    "print(education_encode)\n",
    "credit_score_df_encode.replace(education_encode, inplace=True)"
   ]
  },
  {
   "cell_type": "code",
   "execution_count": 69,
   "id": "798ffa34-95c6-436f-b774-d4fbf91a4850",
   "metadata": {},
   "outputs": [
    {
     "data": {
      "text/plain": [
       "0        4\n",
       "1        2\n",
       "2        2\n",
       "3        2\n",
       "4        2\n",
       "        ..\n",
       "19346    2\n",
       "19347    2\n",
       "19348    2\n",
       "19349    2\n",
       "19350    2\n",
       "Name: education, Length: 19350, dtype: int64"
      ]
     },
     "execution_count": 69,
     "metadata": {},
     "output_type": "execute_result"
    }
   ],
   "source": []
  },
  {
   "cell_type": "code",
   "execution_count": 70,
   "id": "05c14371-1d94-4d02-b167-06fbc96a712f",
   "metadata": {},
   "outputs": [
    {
     "name": "stdout",
     "output_type": "stream",
     "text": [
      "{'family_status': {'civil partnership': 1, 'divorced': 2, 'married': 3, 'unmarried': 4, 'widow / widower': 5}}\n"
     ]
    }
   ],
   "source": [
    "# encoding 'family_status' column\n",
    "labels = credit_score_df_encode['family_status'].astype('category').cat.categories.tolist()\n",
    "family_status_encode = {'family_status' : {k: v for k,v in zip(labels, list(range(1, len(labels)+1)))}}\n",
    "\n",
    "print(family_status_encode)\n",
    "credit_score_df_encode.replace(family_status_encode, inplace =True)"
   ]
  },
  {
   "cell_type": "code",
   "execution_count": 71,
   "id": "039d7f4d-a544-4289-b4c9-3138add08353",
   "metadata": {},
   "outputs": [
    {
     "name": "stdout",
     "output_type": "stream",
     "text": [
      "{'income_type': {'business': 1, 'civil servant': 2, 'employee': 3, 'entrepreneur': 4, 'paternity / maternity leave': 5, 'retiree': 6, 'student': 7, 'unemployed': 8}}\n"
     ]
    }
   ],
   "source": [
    "# encoding 'income_type' column\n",
    "labels = credit_score_df_encode['income_type'].astype('category').cat.categories.tolist()\n",
    "income_type_encode = {'income_type' : {k: v for k,v in zip(labels, list(range(1, len(labels)+1)))}}\n",
    "\n",
    "print(income_type_encode)\n",
    "credit_score_df_encode.replace(income_type_encode, inplace =True)"
   ]
  },
  {
   "cell_type": "code",
   "execution_count": 72,
   "id": "541fb1f1-5313-4eac-a038-edbca792dc81",
   "metadata": {},
   "outputs": [
    {
     "name": "stdout",
     "output_type": "stream",
     "text": [
      "{'purpose': {'car purchase': 1, 'education': 2, 'house purchase': 3, 'property': 4, 'real estate': 5, 'wedding': 6}}\n"
     ]
    }
   ],
   "source": [
    "# encoding 'purpose' column\n",
    "labels = credit_score_df_encode['purpose'].astype('category').cat.categories.tolist()\n",
    "purpose_encode = {'purpose' : {k: v for k,v in zip(labels, list(range(1, len(labels)+1)))}}\n",
    "\n",
    "print(purpose_encode)\n",
    "credit_score_df_encode.replace(purpose_encode, inplace =True)"
   ]
  },
  {
   "cell_type": "code",
   "execution_count": 73,
   "id": "a2ae54aa-1ce2-4798-9cbc-8cfba7332858",
   "metadata": {},
   "outputs": [
    {
     "name": "stdout",
     "output_type": "stream",
     "text": [
      "{'gender': {'F': 1, 'M': 2}}\n"
     ]
    }
   ],
   "source": [
    "# encoding 'gender' column\n",
    "labels = credit_score_df_encode['gender'].astype('category').cat.categories.tolist()\n",
    "gender_encode = {'gender' : {k: v for k,v in zip(labels, list(range(1, len(labels)+1)))}}\n",
    "\n",
    "print(gender_encode)\n",
    "credit_score_df_encode.replace(gender_encode, inplace =True)"
   ]
  },
  {
   "cell_type": "code",
   "execution_count": 74,
   "id": "c1611900-702e-4ffb-9398-5f0eb133b19e",
   "metadata": {},
   "outputs": [
    {
     "data": {
      "text/html": [
       "<div>\n",
       "<style scoped>\n",
       "    .dataframe tbody tr th:only-of-type {\n",
       "        vertical-align: middle;\n",
       "    }\n",
       "\n",
       "    .dataframe tbody tr th {\n",
       "        vertical-align: top;\n",
       "    }\n",
       "\n",
       "    .dataframe thead th {\n",
       "        text-align: right;\n",
       "    }\n",
       "</style>\n",
       "<table border=\"1\" class=\"dataframe\">\n",
       "  <thead>\n",
       "    <tr style=\"text-align: right;\">\n",
       "      <th></th>\n",
       "      <th>children</th>\n",
       "      <th>days_employed</th>\n",
       "      <th>dob_years</th>\n",
       "      <th>education</th>\n",
       "      <th>education_id</th>\n",
       "      <th>family_status</th>\n",
       "      <th>family_status_id</th>\n",
       "      <th>gender</th>\n",
       "      <th>income_type</th>\n",
       "      <th>debt</th>\n",
       "      <th>total_income</th>\n",
       "      <th>purpose</th>\n",
       "    </tr>\n",
       "  </thead>\n",
       "  <tbody>\n",
       "    <tr>\n",
       "      <th>0</th>\n",
       "      <td>1</td>\n",
       "      <td>8437</td>\n",
       "      <td>42</td>\n",
       "      <td>4</td>\n",
       "      <td>0</td>\n",
       "      <td>3</td>\n",
       "      <td>0</td>\n",
       "      <td>1</td>\n",
       "      <td>3</td>\n",
       "      <td>0</td>\n",
       "      <td>40620</td>\n",
       "      <td>3</td>\n",
       "    </tr>\n",
       "    <tr>\n",
       "      <th>1</th>\n",
       "      <td>1</td>\n",
       "      <td>4024</td>\n",
       "      <td>36</td>\n",
       "      <td>2</td>\n",
       "      <td>1</td>\n",
       "      <td>3</td>\n",
       "      <td>0</td>\n",
       "      <td>1</td>\n",
       "      <td>3</td>\n",
       "      <td>0</td>\n",
       "      <td>17932</td>\n",
       "      <td>1</td>\n",
       "    </tr>\n",
       "    <tr>\n",
       "      <th>2</th>\n",
       "      <td>0</td>\n",
       "      <td>5623</td>\n",
       "      <td>33</td>\n",
       "      <td>2</td>\n",
       "      <td>1</td>\n",
       "      <td>3</td>\n",
       "      <td>0</td>\n",
       "      <td>2</td>\n",
       "      <td>3</td>\n",
       "      <td>0</td>\n",
       "      <td>23341</td>\n",
       "      <td>3</td>\n",
       "    </tr>\n",
       "    <tr>\n",
       "      <th>3</th>\n",
       "      <td>3</td>\n",
       "      <td>4124</td>\n",
       "      <td>32</td>\n",
       "      <td>2</td>\n",
       "      <td>1</td>\n",
       "      <td>3</td>\n",
       "      <td>0</td>\n",
       "      <td>2</td>\n",
       "      <td>3</td>\n",
       "      <td>0</td>\n",
       "      <td>42820</td>\n",
       "      <td>2</td>\n",
       "    </tr>\n",
       "    <tr>\n",
       "      <th>4</th>\n",
       "      <td>0</td>\n",
       "      <td>340266</td>\n",
       "      <td>53</td>\n",
       "      <td>2</td>\n",
       "      <td>1</td>\n",
       "      <td>1</td>\n",
       "      <td>1</td>\n",
       "      <td>1</td>\n",
       "      <td>6</td>\n",
       "      <td>0</td>\n",
       "      <td>25378</td>\n",
       "      <td>6</td>\n",
       "    </tr>\n",
       "    <tr>\n",
       "      <th>5</th>\n",
       "      <td>0</td>\n",
       "      <td>926</td>\n",
       "      <td>27</td>\n",
       "      <td>4</td>\n",
       "      <td>0</td>\n",
       "      <td>1</td>\n",
       "      <td>1</td>\n",
       "      <td>2</td>\n",
       "      <td>1</td>\n",
       "      <td>0</td>\n",
       "      <td>40922</td>\n",
       "      <td>3</td>\n",
       "    </tr>\n",
       "    <tr>\n",
       "      <th>6</th>\n",
       "      <td>0</td>\n",
       "      <td>2879</td>\n",
       "      <td>43</td>\n",
       "      <td>4</td>\n",
       "      <td>0</td>\n",
       "      <td>3</td>\n",
       "      <td>0</td>\n",
       "      <td>1</td>\n",
       "      <td>1</td>\n",
       "      <td>0</td>\n",
       "      <td>38484</td>\n",
       "      <td>3</td>\n",
       "    </tr>\n",
       "    <tr>\n",
       "      <th>7</th>\n",
       "      <td>0</td>\n",
       "      <td>152</td>\n",
       "      <td>50</td>\n",
       "      <td>2</td>\n",
       "      <td>1</td>\n",
       "      <td>3</td>\n",
       "      <td>0</td>\n",
       "      <td>2</td>\n",
       "      <td>3</td>\n",
       "      <td>0</td>\n",
       "      <td>21731</td>\n",
       "      <td>2</td>\n",
       "    </tr>\n",
       "    <tr>\n",
       "      <th>8</th>\n",
       "      <td>2</td>\n",
       "      <td>6929</td>\n",
       "      <td>35</td>\n",
       "      <td>4</td>\n",
       "      <td>0</td>\n",
       "      <td>1</td>\n",
       "      <td>1</td>\n",
       "      <td>1</td>\n",
       "      <td>3</td>\n",
       "      <td>0</td>\n",
       "      <td>15337</td>\n",
       "      <td>6</td>\n",
       "    </tr>\n",
       "    <tr>\n",
       "      <th>9</th>\n",
       "      <td>0</td>\n",
       "      <td>2188</td>\n",
       "      <td>41</td>\n",
       "      <td>2</td>\n",
       "      <td>1</td>\n",
       "      <td>3</td>\n",
       "      <td>0</td>\n",
       "      <td>2</td>\n",
       "      <td>3</td>\n",
       "      <td>0</td>\n",
       "      <td>23108</td>\n",
       "      <td>3</td>\n",
       "    </tr>\n",
       "  </tbody>\n",
       "</table>\n",
       "</div>"
      ],
      "text/plain": [
       "   children  days_employed  dob_years  education  education_id  family_status  \\\n",
       "0         1           8437         42          4             0              3   \n",
       "1         1           4024         36          2             1              3   \n",
       "2         0           5623         33          2             1              3   \n",
       "3         3           4124         32          2             1              3   \n",
       "4         0         340266         53          2             1              1   \n",
       "5         0            926         27          4             0              1   \n",
       "6         0           2879         43          4             0              3   \n",
       "7         0            152         50          2             1              3   \n",
       "8         2           6929         35          4             0              1   \n",
       "9         0           2188         41          2             1              3   \n",
       "\n",
       "   family_status_id  gender  income_type  debt  total_income  purpose  \n",
       "0                 0       1            3     0         40620        3  \n",
       "1                 0       1            3     0         17932        1  \n",
       "2                 0       2            3     0         23341        3  \n",
       "3                 0       2            3     0         42820        2  \n",
       "4                 1       1            6     0         25378        6  \n",
       "5                 1       2            1     0         40922        3  \n",
       "6                 0       1            1     0         38484        3  \n",
       "7                 0       2            3     0         21731        2  \n",
       "8                 1       1            3     0         15337        6  \n",
       "9                 0       2            3     0         23108        3  "
      ]
     },
     "execution_count": 74,
     "metadata": {},
     "output_type": "execute_result"
    }
   ],
   "source": [
    "# show all categories with encoding\n",
    "credit_score_df_encode.head(10)"
   ]
  },
  {
   "cell_type": "code",
   "execution_count": 83,
   "id": "0f6cb165-d343-4d64-b1dd-3681b0283ca3",
   "metadata": {},
   "outputs": [
    {
     "data": {
      "image/png": "[encoded data removed]",
      "text/plain": [
       "<Figure size 1000x1000 with 2 Axes>"
      ]
     },
     "metadata": {},
     "output_type": "display_data"
    }
   ],
   "source": [
    "#ploting correlation matrix\n",
    "\n",
    "plt.figure(figsize=(10, 10))\n",
    "corr = credit_score_df_encode.corr()\n",
    "sns.heatmap(corr, annot=True, cmap='coolwarm', fmt=\".2f\")\n",
    "plt.title('Correlation Matrix')\n",
    "plt.show()"
   ]
  },
  {
   "cell_type": "code",
   "execution_count": 88,
   "id": "5447a091-7c74-436c-8bba-a1b651865136",
   "metadata": {},
   "outputs": [
    {
     "data": {
      "image/png": "[encoded data removed]",
      "text/plain": [
       "<Figure size 800x600 with 1 Axes>"
      ]
     },
     "metadata": {},
     "output_type": "display_data"
    }
   ],
   "source": [
    "# having kids as a potential predictor of repaying a loan on time\n",
    "plt.figure(figsize=(8, 6))\n",
    "sns.regplot(x='children', y='debt', data=credit_score_df_encode)\n",
    "plt.ylim(0,)\n",
    "plt.title('Correlation between having kids and on time loan repayment')\n",
    "plt.show()"
   ]
  },
  {
   "cell_type": "markdown",
   "id": "32608572-7959-4c0e-8dee-28c357c1652b",
   "metadata": {},
   "source": [
    "First we start to analyze the data by creating a correlation matrix. Our correlation matrix does show that the linear relationship isn't extremely strong (~0.021) across the dataset. Ofcourse, we need to understand that **correlation does not imply causation** thus we need to look for another way to extract insight from the data. One such way is by using a pivot table and plotting the characteristics of the table."
   ]
  },
  {
   "cell_type": "code",
   "execution_count": 89,
   "id": "dfb02460-2fcc-450c-bd86-318e3288d0b8",
   "metadata": {},
   "outputs": [
    {
     "data": {
      "text/html": [
       "<div>\n",
       "<style scoped>\n",
       "    .dataframe tbody tr th:only-of-type {\n",
       "        vertical-align: middle;\n",
       "    }\n",
       "\n",
       "    .dataframe tbody tr th {\n",
       "        vertical-align: top;\n",
       "    }\n",
       "\n",
       "    .dataframe thead tr th {\n",
       "        text-align: left;\n",
       "    }\n",
       "\n",
       "    .dataframe thead tr:last-of-type th {\n",
       "        text-align: right;\n",
       "    }\n",
       "</style>\n",
       "<table border=\"1\" class=\"dataframe\">\n",
       "  <thead>\n",
       "    <tr>\n",
       "      <th></th>\n",
       "      <th></th>\n",
       "      <th>sum</th>\n",
       "      <th>len</th>\n",
       "      <th>mean</th>\n",
       "    </tr>\n",
       "    <tr>\n",
       "      <th></th>\n",
       "      <th></th>\n",
       "      <th>debt</th>\n",
       "      <th>debt</th>\n",
       "      <th>debt</th>\n",
       "    </tr>\n",
       "    <tr>\n",
       "      <th>children</th>\n",
       "      <th>family_status</th>\n",
       "      <th></th>\n",
       "      <th></th>\n",
       "      <th></th>\n",
       "    </tr>\n",
       "  </thead>\n",
       "  <tbody>\n",
       "    <tr>\n",
       "      <th rowspan=\"5\" valign=\"top\">0</th>\n",
       "      <th>civil partnership</th>\n",
       "      <td>202</td>\n",
       "      <td>2468</td>\n",
       "      <td>0.081848</td>\n",
       "    </tr>\n",
       "    <tr>\n",
       "      <th>divorced</th>\n",
       "      <td>49</td>\n",
       "      <td>717</td>\n",
       "      <td>0.068340</td>\n",
       "    </tr>\n",
       "    <tr>\n",
       "      <th>married</th>\n",
       "      <td>462</td>\n",
       "      <td>6768</td>\n",
       "      <td>0.068262</td>\n",
       "    </tr>\n",
       "    <tr>\n",
       "      <th>unmarried</th>\n",
       "      <td>192</td>\n",
       "      <td>2038</td>\n",
       "      <td>0.094210</td>\n",
       "    </tr>\n",
       "    <tr>\n",
       "      <th>widow / widower</th>\n",
       "      <td>48</td>\n",
       "      <td>762</td>\n",
       "      <td>0.062992</td>\n",
       "    </tr>\n",
       "    <tr>\n",
       "      <th rowspan=\"5\" valign=\"top\">1</th>\n",
       "      <th>civil partnership</th>\n",
       "      <td>102</td>\n",
       "      <td>897</td>\n",
       "      <td>0.113712</td>\n",
       "    </tr>\n",
       "    <tr>\n",
       "      <th>divorced</th>\n",
       "      <td>19</td>\n",
       "      <td>280</td>\n",
       "      <td>0.067857</td>\n",
       "    </tr>\n",
       "    <tr>\n",
       "      <th>married</th>\n",
       "      <td>230</td>\n",
       "      <td>2683</td>\n",
       "      <td>0.085725</td>\n",
       "    </tr>\n",
       "    <tr>\n",
       "      <th>unmarried</th>\n",
       "      <td>51</td>\n",
       "      <td>407</td>\n",
       "      <td>0.125307</td>\n",
       "    </tr>\n",
       "    <tr>\n",
       "      <th>widow / widower</th>\n",
       "      <td>6</td>\n",
       "      <td>76</td>\n",
       "      <td>0.078947</td>\n",
       "    </tr>\n",
       "    <tr>\n",
       "      <th rowspan=\"5\" valign=\"top\">2</th>\n",
       "      <th>civil partnership</th>\n",
       "      <td>26</td>\n",
       "      <td>305</td>\n",
       "      <td>0.085246</td>\n",
       "    </tr>\n",
       "    <tr>\n",
       "      <th>divorced</th>\n",
       "      <td>6</td>\n",
       "      <td>74</td>\n",
       "      <td>0.081081</td>\n",
       "    </tr>\n",
       "    <tr>\n",
       "      <th>married</th>\n",
       "      <td>135</td>\n",
       "      <td>1389</td>\n",
       "      <td>0.097192</td>\n",
       "    </tr>\n",
       "    <tr>\n",
       "      <th>unmarried</th>\n",
       "      <td>8</td>\n",
       "      <td>66</td>\n",
       "      <td>0.121212</td>\n",
       "    </tr>\n",
       "    <tr>\n",
       "      <th>widow / widower</th>\n",
       "      <td>2</td>\n",
       "      <td>17</td>\n",
       "      <td>0.117647</td>\n",
       "    </tr>\n",
       "    <tr>\n",
       "      <th rowspan=\"5\" valign=\"top\">3</th>\n",
       "      <th>civil partnership</th>\n",
       "      <td>6</td>\n",
       "      <td>45</td>\n",
       "      <td>0.133333</td>\n",
       "    </tr>\n",
       "    <tr>\n",
       "      <th>divorced</th>\n",
       "      <td>1</td>\n",
       "      <td>10</td>\n",
       "      <td>0.100000</td>\n",
       "    </tr>\n",
       "    <tr>\n",
       "      <th>married</th>\n",
       "      <td>14</td>\n",
       "      <td>226</td>\n",
       "      <td>0.061947</td>\n",
       "    </tr>\n",
       "    <tr>\n",
       "      <th>unmarried</th>\n",
       "      <td>1</td>\n",
       "      <td>7</td>\n",
       "      <td>0.142857</td>\n",
       "    </tr>\n",
       "    <tr>\n",
       "      <th>widow / widower</th>\n",
       "      <td>0</td>\n",
       "      <td>6</td>\n",
       "      <td>0.000000</td>\n",
       "    </tr>\n",
       "    <tr>\n",
       "      <th rowspan=\"5\" valign=\"top\">4</th>\n",
       "      <th>civil partnership</th>\n",
       "      <td>0</td>\n",
       "      <td>7</td>\n",
       "      <td>0.000000</td>\n",
       "    </tr>\n",
       "    <tr>\n",
       "      <th>divorced</th>\n",
       "      <td>0</td>\n",
       "      <td>1</td>\n",
       "      <td>0.000000</td>\n",
       "    </tr>\n",
       "    <tr>\n",
       "      <th>married</th>\n",
       "      <td>2</td>\n",
       "      <td>24</td>\n",
       "      <td>0.083333</td>\n",
       "    </tr>\n",
       "    <tr>\n",
       "      <th>unmarried</th>\n",
       "      <td>1</td>\n",
       "      <td>1</td>\n",
       "      <td>1.000000</td>\n",
       "    </tr>\n",
       "    <tr>\n",
       "      <th>widow / widower</th>\n",
       "      <td>0</td>\n",
       "      <td>1</td>\n",
       "      <td>0.000000</td>\n",
       "    </tr>\n",
       "    <tr>\n",
       "      <th rowspan=\"2\" valign=\"top\">5</th>\n",
       "      <th>civil partnership</th>\n",
       "      <td>0</td>\n",
       "      <td>1</td>\n",
       "      <td>0.000000</td>\n",
       "    </tr>\n",
       "    <tr>\n",
       "      <th>married</th>\n",
       "      <td>0</td>\n",
       "      <td>7</td>\n",
       "      <td>0.000000</td>\n",
       "    </tr>\n",
       "    <tr>\n",
       "      <th rowspan=\"5\" valign=\"top\">20</th>\n",
       "      <th>civil partnership</th>\n",
       "      <td>3</td>\n",
       "      <td>11</td>\n",
       "      <td>0.272727</td>\n",
       "    </tr>\n",
       "    <tr>\n",
       "      <th>divorced</th>\n",
       "      <td>1</td>\n",
       "      <td>1</td>\n",
       "      <td>1.000000</td>\n",
       "    </tr>\n",
       "    <tr>\n",
       "      <th>married</th>\n",
       "      <td>3</td>\n",
       "      <td>46</td>\n",
       "      <td>0.065217</td>\n",
       "    </tr>\n",
       "    <tr>\n",
       "      <th>unmarried</th>\n",
       "      <td>1</td>\n",
       "      <td>6</td>\n",
       "      <td>0.166667</td>\n",
       "    </tr>\n",
       "    <tr>\n",
       "      <th>widow / widower</th>\n",
       "      <td>0</td>\n",
       "      <td>3</td>\n",
       "      <td>0.000000</td>\n",
       "    </tr>\n",
       "  </tbody>\n",
       "</table>\n",
       "</div>"
      ],
      "text/plain": [
       "                            sum   len      mean\n",
       "                           debt  debt      debt\n",
       "children family_status                         \n",
       "0        civil partnership  202  2468  0.081848\n",
       "         divorced            49   717  0.068340\n",
       "         married            462  6768  0.068262\n",
       "         unmarried          192  2038  0.094210\n",
       "         widow / widower     48   762  0.062992\n",
       "1        civil partnership  102   897  0.113712\n",
       "         divorced            19   280  0.067857\n",
       "         married            230  2683  0.085725\n",
       "         unmarried           51   407  0.125307\n",
       "         widow / widower      6    76  0.078947\n",
       "2        civil partnership   26   305  0.085246\n",
       "         divorced             6    74  0.081081\n",
       "         married            135  1389  0.097192\n",
       "         unmarried            8    66  0.121212\n",
       "         widow / widower      2    17  0.117647\n",
       "3        civil partnership    6    45  0.133333\n",
       "         divorced             1    10  0.100000\n",
       "         married             14   226  0.061947\n",
       "         unmarried            1     7  0.142857\n",
       "         widow / widower      0     6  0.000000\n",
       "4        civil partnership    0     7  0.000000\n",
       "         divorced             0     1  0.000000\n",
       "         married              2    24  0.083333\n",
       "         unmarried            1     1  1.000000\n",
       "         widow / widower      0     1  0.000000\n",
       "5        civil partnership    0     1  0.000000\n",
       "         married              0     7  0.000000\n",
       "20       civil partnership    3    11  0.272727\n",
       "         divorced             1     1  1.000000\n",
       "         married              3    46  0.065217\n",
       "         unmarried            1     6  0.166667\n",
       "         widow / widower      0     3  0.000000"
      ]
     },
     "execution_count": 89,
     "metadata": {},
     "output_type": "execute_result"
    }
   ],
   "source": [
    "# generate pivot table\n",
    "loan_table = pd.pivot_table(credit_score_df, index = ['children', 'family_status'],\n",
    "                            values = 'debt',\n",
    "                            aggfunc = ['sum', len, 'mean']\n",
    "                           )\n",
    "loan_table"
   ]
  },
  {
   "cell_type": "code",
   "execution_count": 90,
   "id": "f8b6db13-0060-4e86-9850-b5eaada48cd1",
   "metadata": {},
   "outputs": [
    {
     "data": {
      "text/plain": [
       "Text(0.5, 1.0, 'Plot of debt vs number of children')"
      ]
     },
     "execution_count": 90,
     "metadata": {},
     "output_type": "execute_result"
    },
    {
     "data": {
      "image/png": "[encoded data removed]",
      "text/plain": [
       "<Figure size 640x480 with 1 Axes>"
      ]
     },
     "metadata": {},
     "output_type": "display_data"
    }
   ],
   "source": [
    "# plot of debt vs number of children\n",
    "sns.set()\n",
    "pd.pivot_table(credit_score_df, index = 'children', values = 'debt').plot(kind= 'bar')\n",
    "plt.ylabel('debt')\n",
    "plt.title('Plot of debt vs number of children')"
   ]
  },
  {
   "cell_type": "markdown",
   "id": "0fb7f7f3-fae5-49c5-944c-4307ae459663",
   "metadata": {},
   "source": [
    "Overall, we can see that people with more kids tends to have more debt. Statistically speaking, people with more than 5 kids and up to 20 kids are ~37% more likely to be in debt than people with no kid. This is a reasonable figure when you consider the fact that having more kid means you end up with more responsibility. We can continue to dissect the data to generate more insight by looking at `debt` vs `number of children` with `family status` consideration.en')"
   ]
  },
  {
   "cell_type": "code",
   "execution_count": 91,
   "id": "bd1dbd51-7092-4194-8855-137ea530b764",
   "metadata": {},
   "outputs": [
    {
     "data": {
      "text/plain": [
       "Text(0.5, 1.0, 'Plot of debt vs number of children with family status consideration')"
      ]
     },
     "execution_count": 91,
     "metadata": {},
     "output_type": "execute_result"
    },
    {
     "data": {
      "image/png": "[encoded data removed]",
      "text/plain": [
       "<Figure size 640x480 with 1 Axes>"
      ]
     },
     "metadata": {},
     "output_type": "display_data"
    }
   ],
   "source": [
    "# plot of debt vs number of children with family status consideration\n",
    "sns.set()\n",
    "pd.pivot_table(credit_score_df, index = 'children', columns= 'family_status', values = 'debt').plot(kind= 'bar')\n",
    "plt.ylabel('debt')\n",
    "plt.title('Plot of debt vs number of children with family status consideration')"
   ]
  },
  {
   "cell_type": "markdown",
   "id": "4d5c99b7-4021-4a92-ad1b-4c0fcdfba723",
   "metadata": {},
   "source": [
    "From the plot above, we can observe that unmarried people with up to 4 kids and divorced people with up to 20 kids are ~75% more likely to be in debt than any other family status, and about 80% more likely to be in debt than people with 3 or less number of children."
   ]
  },
  {
   "cell_type": "code",
   "execution_count": 92,
   "id": "fcaa728b-b0d1-4bff-8029-c0417b9aa2f9",
   "metadata": {},
   "outputs": [
    {
     "data": {
      "text/html": [
       "<div>\n",
       "<style scoped>\n",
       "    .dataframe tbody tr th:only-of-type {\n",
       "        vertical-align: middle;\n",
       "    }\n",
       "\n",
       "    .dataframe tbody tr th {\n",
       "        vertical-align: top;\n",
       "    }\n",
       "\n",
       "    .dataframe thead tr th {\n",
       "        text-align: left;\n",
       "    }\n",
       "\n",
       "    .dataframe thead tr:last-of-type th {\n",
       "        text-align: right;\n",
       "    }\n",
       "</style>\n",
       "<table border=\"1\" class=\"dataframe\">\n",
       "  <thead>\n",
       "    <tr>\n",
       "      <th></th>\n",
       "      <th></th>\n",
       "      <th>sum</th>\n",
       "      <th>len</th>\n",
       "      <th>mean</th>\n",
       "    </tr>\n",
       "    <tr>\n",
       "      <th></th>\n",
       "      <th></th>\n",
       "      <th>debt</th>\n",
       "      <th>debt</th>\n",
       "      <th>debt</th>\n",
       "    </tr>\n",
       "    <tr>\n",
       "      <th>children</th>\n",
       "      <th>family_status</th>\n",
       "      <th></th>\n",
       "      <th></th>\n",
       "      <th></th>\n",
       "    </tr>\n",
       "  </thead>\n",
       "  <tbody>\n",
       "    <tr>\n",
       "      <th rowspan=\"5\" valign=\"top\">0</th>\n",
       "      <th>civil partnership</th>\n",
       "      <td>202</td>\n",
       "      <td>2468</td>\n",
       "      <td>0.081848</td>\n",
       "    </tr>\n",
       "    <tr>\n",
       "      <th>divorced</th>\n",
       "      <td>49</td>\n",
       "      <td>717</td>\n",
       "      <td>0.068340</td>\n",
       "    </tr>\n",
       "    <tr>\n",
       "      <th>married</th>\n",
       "      <td>462</td>\n",
       "      <td>6768</td>\n",
       "      <td>0.068262</td>\n",
       "    </tr>\n",
       "    <tr>\n",
       "      <th>unmarried</th>\n",
       "      <td>192</td>\n",
       "      <td>2038</td>\n",
       "      <td>0.094210</td>\n",
       "    </tr>\n",
       "    <tr>\n",
       "      <th>widow / widower</th>\n",
       "      <td>48</td>\n",
       "      <td>762</td>\n",
       "      <td>0.062992</td>\n",
       "    </tr>\n",
       "  </tbody>\n",
       "</table>\n",
       "</div>"
      ],
      "text/plain": [
       "                            sum   len      mean\n",
       "                           debt  debt      debt\n",
       "children family_status                         \n",
       "0        civil partnership  202  2468  0.081848\n",
       "         divorced            49   717  0.068340\n",
       "         married            462  6768  0.068262\n",
       "         unmarried          192  2038  0.094210\n",
       "         widow / widower     48   762  0.062992"
      ]
     },
     "execution_count": 92,
     "metadata": {},
     "output_type": "execute_result"
    }
   ],
   "source": [
    "# query table to extract more insight\n",
    "loan_table.query('children == 0')"
   ]
  },
  {
   "cell_type": "code",
   "execution_count": 93,
   "id": "69fc1826-b0f2-4ceb-80f9-925921989f1d",
   "metadata": {},
   "outputs": [
    {
     "data": {
      "text/html": [
       "<div>\n",
       "<style scoped>\n",
       "    .dataframe tbody tr th:only-of-type {\n",
       "        vertical-align: middle;\n",
       "    }\n",
       "\n",
       "    .dataframe tbody tr th {\n",
       "        vertical-align: top;\n",
       "    }\n",
       "\n",
       "    .dataframe thead tr th {\n",
       "        text-align: left;\n",
       "    }\n",
       "\n",
       "    .dataframe thead tr:last-of-type th {\n",
       "        text-align: right;\n",
       "    }\n",
       "</style>\n",
       "<table border=\"1\" class=\"dataframe\">\n",
       "  <thead>\n",
       "    <tr>\n",
       "      <th></th>\n",
       "      <th></th>\n",
       "      <th>sum</th>\n",
       "      <th>len</th>\n",
       "      <th>mean</th>\n",
       "    </tr>\n",
       "    <tr>\n",
       "      <th></th>\n",
       "      <th></th>\n",
       "      <th>debt</th>\n",
       "      <th>debt</th>\n",
       "      <th>debt</th>\n",
       "    </tr>\n",
       "    <tr>\n",
       "      <th>children</th>\n",
       "      <th>family_status</th>\n",
       "      <th></th>\n",
       "      <th></th>\n",
       "      <th></th>\n",
       "    </tr>\n",
       "  </thead>\n",
       "  <tbody>\n",
       "    <tr>\n",
       "      <th rowspan=\"5\" valign=\"top\">20</th>\n",
       "      <th>civil partnership</th>\n",
       "      <td>3</td>\n",
       "      <td>11</td>\n",
       "      <td>0.272727</td>\n",
       "    </tr>\n",
       "    <tr>\n",
       "      <th>divorced</th>\n",
       "      <td>1</td>\n",
       "      <td>1</td>\n",
       "      <td>1.000000</td>\n",
       "    </tr>\n",
       "    <tr>\n",
       "      <th>married</th>\n",
       "      <td>3</td>\n",
       "      <td>46</td>\n",
       "      <td>0.065217</td>\n",
       "    </tr>\n",
       "    <tr>\n",
       "      <th>unmarried</th>\n",
       "      <td>1</td>\n",
       "      <td>6</td>\n",
       "      <td>0.166667</td>\n",
       "    </tr>\n",
       "    <tr>\n",
       "      <th>widow / widower</th>\n",
       "      <td>0</td>\n",
       "      <td>3</td>\n",
       "      <td>0.000000</td>\n",
       "    </tr>\n",
       "  </tbody>\n",
       "</table>\n",
       "</div>"
      ],
      "text/plain": [
       "                            sum  len      mean\n",
       "                           debt debt      debt\n",
       "children family_status                        \n",
       "20       civil partnership    3   11  0.272727\n",
       "         divorced             1    1  1.000000\n",
       "         married              3   46  0.065217\n",
       "         unmarried            1    6  0.166667\n",
       "         widow / widower      0    3  0.000000"
      ]
     },
     "execution_count": 93,
     "metadata": {},
     "output_type": "execute_result"
    }
   ],
   "source": [
    "# query table to extract more insight\n",
    "loan_table.query('children == 20')"
   ]
  },
  {
   "cell_type": "markdown",
   "id": "cca7d860-df88-4695-9933-8eb86d85ed14",
   "metadata": {},
   "source": [
    "# Conclusion\n",
    "\n",
    "From our result above, the data tells us that people with more than 5 kids in general tend to be in more debt than people with less kids. People with more than 5 kids and up to 20 kids are ~37% more likely to be in debt than people with no kid thus, there is a relationship between having kids and repaying a loan on time.\n",
    "\n",
    "Is there a relation between marital status and repaying a loan on time?\n",
    "We start by looking at the correlation matrix. We see a weak correlation between family_status and repaying a loan on time across the data. We can slice the data by using pivot table to generate more insight."
   ]
  },
  {
   "cell_type": "code",
   "execution_count": 98,
   "id": "897ae023-d75d-4198-b9aa-d2c151adfee3",
   "metadata": {},
   "outputs": [
    {
     "data": {
      "image/png": "[encoded data removed]",
      "text/plain": [
       "<Figure size 1000x1000 with 1 Axes>"
      ]
     },
     "metadata": {},
     "output_type": "display_data"
    }
   ],
   "source": [
    "# marital status as a potential predictor of repaying a loan on time\n",
    "plt.figure(figsize=(10, 10))\n",
    "sns.regplot(x='family_status', y='debt', data=credit_score_df_encode)\n",
    "plt.ylim(0,)\n",
    "plt.title('Correlation between Marital status and on time loan repayment')\n",
    "plt.show()"
   ]
  },
  {
   "cell_type": "code",
   "execution_count": 99,
   "id": "048a8094-3d53-4b25-872b-cfcb90a69da5",
   "metadata": {},
   "outputs": [
    {
     "data": {
      "text/html": [
       "<div>\n",
       "<style scoped>\n",
       "    .dataframe tbody tr th:only-of-type {\n",
       "        vertical-align: middle;\n",
       "    }\n",
       "\n",
       "    .dataframe tbody tr th {\n",
       "        vertical-align: top;\n",
       "    }\n",
       "\n",
       "    .dataframe thead tr th {\n",
       "        text-align: left;\n",
       "    }\n",
       "\n",
       "    .dataframe thead tr:last-of-type th {\n",
       "        text-align: right;\n",
       "    }\n",
       "</style>\n",
       "<table border=\"1\" class=\"dataframe\">\n",
       "  <thead>\n",
       "    <tr>\n",
       "      <th></th>\n",
       "      <th>sum</th>\n",
       "      <th>len</th>\n",
       "      <th>mean</th>\n",
       "    </tr>\n",
       "    <tr>\n",
       "      <th></th>\n",
       "      <th>debt</th>\n",
       "      <th>debt</th>\n",
       "      <th>debt</th>\n",
       "    </tr>\n",
       "    <tr>\n",
       "      <th>family_status</th>\n",
       "      <th></th>\n",
       "      <th></th>\n",
       "      <th></th>\n",
       "    </tr>\n",
       "  </thead>\n",
       "  <tbody>\n",
       "    <tr>\n",
       "      <th>civil partnership</th>\n",
       "      <td>339</td>\n",
       "      <td>3734</td>\n",
       "      <td>0.090787</td>\n",
       "    </tr>\n",
       "    <tr>\n",
       "      <th>divorced</th>\n",
       "      <td>76</td>\n",
       "      <td>1083</td>\n",
       "      <td>0.070175</td>\n",
       "    </tr>\n",
       "    <tr>\n",
       "      <th>married</th>\n",
       "      <td>846</td>\n",
       "      <td>11143</td>\n",
       "      <td>0.075922</td>\n",
       "    </tr>\n",
       "    <tr>\n",
       "      <th>unmarried</th>\n",
       "      <td>254</td>\n",
       "      <td>2525</td>\n",
       "      <td>0.100594</td>\n",
       "    </tr>\n",
       "    <tr>\n",
       "      <th>widow / widower</th>\n",
       "      <td>56</td>\n",
       "      <td>865</td>\n",
       "      <td>0.064740</td>\n",
       "    </tr>\n",
       "  </tbody>\n",
       "</table>\n",
       "</div>"
      ],
      "text/plain": [
       "                   sum    len      mean\n",
       "                  debt   debt      debt\n",
       "family_status                          \n",
       "civil partnership  339   3734  0.090787\n",
       "divorced            76   1083  0.070175\n",
       "married            846  11143  0.075922\n",
       "unmarried          254   2525  0.100594\n",
       "widow / widower     56    865  0.064740"
      ]
     },
     "execution_count": 99,
     "metadata": {},
     "output_type": "execute_result"
    }
   ],
   "source": [
    "# generate pivot table\n",
    "pd.pivot_table(credit_score_df, index = ['family_status'],\n",
    "                            values = 'debt',\n",
    "                            aggfunc = ['sum', len, 'mean']\n",
    "                           )"
   ]
  },
  {
   "cell_type": "code",
   "execution_count": 101,
   "id": "a579bddc-9827-4e6a-b126-acd496e0e71b",
   "metadata": {},
   "outputs": [
    {
     "data": {
      "image/png": "[encoded data removed]",
      "text/plain": [
       "<Figure size 640x480 with 1 Axes>"
      ]
     },
     "metadata": {},
     "output_type": "display_data"
    }
   ],
   "source": [
    "# plot of family status vs debt\n",
    "sns.set()\n",
    "pd.pivot_table(credit_score_df, index = 'family_status', values = 'debt').plot(kind= 'bar')\n",
    "plt.ylabel('debt')\n",
    "plt.title('Plot of debt vs family status')\n",
    "plt.show()"
   ]
  },
  {
   "cell_type": "markdown",
   "id": "5c55628d-f869-44b3-a18d-46cbdc454971",
   "metadata": {},
   "source": [
    "From the plot above, unmarried people are more than 2% likely to be in debt than married people. Widow/widower are least likely to be in debt than any of the other groups."
   ]
  },
  {
   "cell_type": "code",
   "execution_count": 102,
   "id": "8858ca74-697b-4789-80e3-3d337c28c430",
   "metadata": {},
   "outputs": [
    {
     "data": {
      "text/html": [
       "<div>\n",
       "<style scoped>\n",
       "    .dataframe tbody tr th:only-of-type {\n",
       "        vertical-align: middle;\n",
       "    }\n",
       "\n",
       "    .dataframe tbody tr th {\n",
       "        vertical-align: top;\n",
       "    }\n",
       "\n",
       "    .dataframe thead tr th {\n",
       "        text-align: left;\n",
       "    }\n",
       "\n",
       "    .dataframe thead tr:last-of-type th {\n",
       "        text-align: right;\n",
       "    }\n",
       "</style>\n",
       "<table border=\"1\" class=\"dataframe\">\n",
       "  <thead>\n",
       "    <tr>\n",
       "      <th></th>\n",
       "      <th></th>\n",
       "      <th>len</th>\n",
       "      <th>mean</th>\n",
       "    </tr>\n",
       "    <tr>\n",
       "      <th></th>\n",
       "      <th></th>\n",
       "      <th>debt</th>\n",
       "      <th>debt</th>\n",
       "    </tr>\n",
       "    <tr>\n",
       "      <th>family_status</th>\n",
       "      <th>education</th>\n",
       "      <th></th>\n",
       "      <th></th>\n",
       "    </tr>\n",
       "  </thead>\n",
       "  <tbody>\n",
       "    <tr>\n",
       "      <th rowspan=\"4\" valign=\"top\">civil partnership</th>\n",
       "      <th>bachelor's degree</th>\n",
       "      <td>854</td>\n",
       "      <td>0.055035</td>\n",
       "    </tr>\n",
       "    <tr>\n",
       "      <th>primary education</th>\n",
       "      <td>50</td>\n",
       "      <td>0.180000</td>\n",
       "    </tr>\n",
       "    <tr>\n",
       "      <th>secondary education</th>\n",
       "      <td>2679</td>\n",
       "      <td>0.100411</td>\n",
       "    </tr>\n",
       "    <tr>\n",
       "      <th>some college</th>\n",
       "      <td>151</td>\n",
       "      <td>0.092715</td>\n",
       "    </tr>\n",
       "    <tr>\n",
       "      <th rowspan=\"5\" valign=\"top\">divorced</th>\n",
       "      <th>bachelor's degree</th>\n",
       "      <td>292</td>\n",
       "      <td>0.047945</td>\n",
       "    </tr>\n",
       "    <tr>\n",
       "      <th>graduate degree</th>\n",
       "      <td>1</td>\n",
       "      <td>0.000000</td>\n",
       "    </tr>\n",
       "    <tr>\n",
       "      <th>primary education</th>\n",
       "      <td>20</td>\n",
       "      <td>0.100000</td>\n",
       "    </tr>\n",
       "    <tr>\n",
       "      <th>secondary education</th>\n",
       "      <td>744</td>\n",
       "      <td>0.077957</td>\n",
       "    </tr>\n",
       "    <tr>\n",
       "      <th>some college</th>\n",
       "      <td>26</td>\n",
       "      <td>0.076923</td>\n",
       "    </tr>\n",
       "    <tr>\n",
       "      <th rowspan=\"5\" valign=\"top\">married</th>\n",
       "      <th>bachelor's degree</th>\n",
       "      <td>2740</td>\n",
       "      <td>0.051825</td>\n",
       "    </tr>\n",
       "    <tr>\n",
       "      <th>graduate degree</th>\n",
       "      <td>4</td>\n",
       "      <td>0.000000</td>\n",
       "    </tr>\n",
       "    <tr>\n",
       "      <th>primary education</th>\n",
       "      <td>131</td>\n",
       "      <td>0.106870</td>\n",
       "    </tr>\n",
       "    <tr>\n",
       "      <th>secondary education</th>\n",
       "      <td>7957</td>\n",
       "      <td>0.083072</td>\n",
       "    </tr>\n",
       "    <tr>\n",
       "      <th>some college</th>\n",
       "      <td>311</td>\n",
       "      <td>0.093248</td>\n",
       "    </tr>\n",
       "    <tr>\n",
       "      <th rowspan=\"5\" valign=\"top\">unmarried</th>\n",
       "      <th>bachelor's degree</th>\n",
       "      <td>706</td>\n",
       "      <td>0.060907</td>\n",
       "    </tr>\n",
       "    <tr>\n",
       "      <th>graduate degree</th>\n",
       "      <td>1</td>\n",
       "      <td>0.000000</td>\n",
       "    </tr>\n",
       "    <tr>\n",
       "      <th>primary education</th>\n",
       "      <td>32</td>\n",
       "      <td>0.093750</td>\n",
       "    </tr>\n",
       "    <tr>\n",
       "      <th>secondary education</th>\n",
       "      <td>1613</td>\n",
       "      <td>0.117793</td>\n",
       "    </tr>\n",
       "    <tr>\n",
       "      <th>some college</th>\n",
       "      <td>173</td>\n",
       "      <td>0.104046</td>\n",
       "    </tr>\n",
       "    <tr>\n",
       "      <th rowspan=\"4\" valign=\"top\">widow / widower</th>\n",
       "      <th>bachelor's degree</th>\n",
       "      <td>124</td>\n",
       "      <td>0.048387</td>\n",
       "    </tr>\n",
       "    <tr>\n",
       "      <th>primary education</th>\n",
       "      <td>28</td>\n",
       "      <td>0.000000</td>\n",
       "    </tr>\n",
       "    <tr>\n",
       "      <th>secondary education</th>\n",
       "      <td>700</td>\n",
       "      <td>0.068571</td>\n",
       "    </tr>\n",
       "    <tr>\n",
       "      <th>some college</th>\n",
       "      <td>13</td>\n",
       "      <td>0.153846</td>\n",
       "    </tr>\n",
       "  </tbody>\n",
       "</table>\n",
       "</div>"
      ],
      "text/plain": [
       "                                        len      mean\n",
       "                                       debt      debt\n",
       "family_status     education                          \n",
       "civil partnership bachelor's degree     854  0.055035\n",
       "                  primary education      50  0.180000\n",
       "                  secondary education  2679  0.100411\n",
       "                  some college          151  0.092715\n",
       "divorced          bachelor's degree     292  0.047945\n",
       "                  graduate degree         1  0.000000\n",
       "                  primary education      20  0.100000\n",
       "                  secondary education   744  0.077957\n",
       "                  some college           26  0.076923\n",
       "married           bachelor's degree    2740  0.051825\n",
       "                  graduate degree         4  0.000000\n",
       "                  primary education     131  0.106870\n",
       "                  secondary education  7957  0.083072\n",
       "                  some college          311  0.093248\n",
       "unmarried         bachelor's degree     706  0.060907\n",
       "                  graduate degree         1  0.000000\n",
       "                  primary education      32  0.093750\n",
       "                  secondary education  1613  0.117793\n",
       "                  some college          173  0.104046\n",
       "widow / widower   bachelor's degree     124  0.048387\n",
       "                  primary education      28  0.000000\n",
       "                  secondary education   700  0.068571\n",
       "                  some college           13  0.153846"
      ]
     },
     "execution_count": 102,
     "metadata": {},
     "output_type": "execute_result"
    }
   ],
   "source": [
    "# pivot table with family_status, debt and education\n",
    "loan_table1 = pd.pivot_table(credit_score_df, \n",
    "                             index = ['family_status', 'education'], \n",
    "                             values= 'debt', \n",
    "                             aggfunc = [len, 'mean']\n",
    "                            )\n",
    "loan_table1"
   ]
  },
  {
   "cell_type": "code",
   "execution_count": 105,
   "id": "9ad4a578-6911-427d-aa31-d758a3f6b2d0",
   "metadata": {},
   "outputs": [
    {
     "data": {
      "image/png": "[encoded data removed]",
      "text/plain": [
       "<Figure size 640x480 with 1 Axes>"
      ]
     },
     "metadata": {},
     "output_type": "display_data"
    }
   ],
   "source": [
    "# plot of debt vs family status with education level consideration\n",
    "sns.set()\n",
    "pd.pivot_table(credit_score_df, index = 'family_status', columns= 'education', values = 'debt').plot(kind= 'bar')\n",
    "plt.ylabel('debt')\n",
    "plt.title('Plot of debt vs family status with education level consideration')\n",
    "plt.show()"
   ]
  },
  {
   "cell_type": "raw",
   "id": "f7aef115-accf-4f69-92c4-ce292fd34a63",
   "metadata": {},
   "source": [
    "We can see that when we consider family status across education levels, the data tells us that people with graduate degrees are less likely to be in debt than any other group. Widow/widowers with some college degree are more likely to be in debt than any other level of family status with same degree level. Civil partnership with primary education are more than likely to be in debt than any other level of family status with same degree level.\n",
    "\n",
    "Conclusion\n",
    "In conclusion, unmarried people are more than 2% likely to be in debt than married people. Widow/widower are least likely to be in debt than any of the other groups.\n",
    "\n",
    "Is there a relation between income level and repaying a loan on time?"
   ]
  },
  {
   "cell_type": "code",
   "execution_count": 108,
   "id": "dfa4dbed-2ca5-4445-b33e-cb278f513e4d",
   "metadata": {},
   "outputs": [
    {
     "data": {
      "image/png": "[encoded data removed]",
      "text/plain": [
       "<Figure size 600x800 with 1 Axes>"
      ]
     },
     "metadata": {},
     "output_type": "display_data"
    }
   ],
   "source": [
    "# total income as a potential predictor of repaying a loan on time\n",
    "plt.figure(figsize=(6,8))\n",
    "sns.regplot(x='total_income', y='debt', data=credit_score_df_encode)\n",
    "plt.ylim(0,)\n",
    "plt.title('Correlation between total income and on time loan repayment')\n",
    "plt.show()"
   ]
  },
  {
   "cell_type": "code",
   "execution_count": 111,
   "id": "6641a586-9a3d-48b8-88f3-31b3d017111e",
   "metadata": {},
   "outputs": [
    {
     "data": {
      "image/png": "[encoded data removed]",
      "text/plain": [
       "<Figure size 640x480 with 1 Axes>"
      ]
     },
     "metadata": {},
     "output_type": "display_data"
    }
   ],
   "source": [
    "# plot of total income vs debt\n",
    "sns.set()\n",
    "pd.pivot_table(credit_score_df, index = 'debt', values = 'total_income').plot(kind= 'bar')\n",
    "plt.ylabel('total_income')\n",
    "plt.title('Plot of total income vs debt')\n",
    "plt.show()"
   ]
  },
  {
   "cell_type": "code",
   "execution_count": 112,
   "id": "e7673df2-d1ae-4f8f-8895-c99ca01b1a30",
   "metadata": {},
   "outputs": [
    {
     "name": "stderr",
     "output_type": "stream",
     "text": [
      "C:\\Users\\USER\\AppData\\Local\\Temp\\ipykernel_2468\\3681113606.py:2: FutureWarning: The provided callable <built-in function min> is currently using DataFrameGroupBy.min. In a future version of pandas, the provided callable will be used directly. To keep current behavior pass the string \"min\" instead.\n",
      "  loan_table2 = pd.pivot_table(credit_score_df,\n",
      "C:\\Users\\USER\\AppData\\Local\\Temp\\ipykernel_2468\\3681113606.py:2: FutureWarning: The provided callable <built-in function max> is currently using DataFrameGroupBy.max. In a future version of pandas, the provided callable will be used directly. To keep current behavior pass the string \"max\" instead.\n",
      "  loan_table2 = pd.pivot_table(credit_score_df,\n"
     ]
    },
    {
     "data": {
      "text/html": [
       "<div>\n",
       "<style scoped>\n",
       "    .dataframe tbody tr th:only-of-type {\n",
       "        vertical-align: middle;\n",
       "    }\n",
       "\n",
       "    .dataframe tbody tr th {\n",
       "        vertical-align: top;\n",
       "    }\n",
       "\n",
       "    .dataframe thead tr th {\n",
       "        text-align: left;\n",
       "    }\n",
       "\n",
       "    .dataframe thead tr:last-of-type th {\n",
       "        text-align: right;\n",
       "    }\n",
       "</style>\n",
       "<table border=\"1\" class=\"dataframe\">\n",
       "  <thead>\n",
       "    <tr>\n",
       "      <th></th>\n",
       "      <th>mean</th>\n",
       "      <th>min</th>\n",
       "      <th>max</th>\n",
       "    </tr>\n",
       "    <tr>\n",
       "      <th></th>\n",
       "      <th>debt</th>\n",
       "      <th>debt</th>\n",
       "      <th>debt</th>\n",
       "    </tr>\n",
       "    <tr>\n",
       "      <th>total_income</th>\n",
       "      <th></th>\n",
       "      <th></th>\n",
       "      <th></th>\n",
       "    </tr>\n",
       "  </thead>\n",
       "  <tbody>\n",
       "    <tr>\n",
       "      <th>3306</th>\n",
       "      <td>1.0</td>\n",
       "      <td>1</td>\n",
       "      <td>1</td>\n",
       "    </tr>\n",
       "    <tr>\n",
       "      <th>3392</th>\n",
       "      <td>0.0</td>\n",
       "      <td>0</td>\n",
       "      <td>0</td>\n",
       "    </tr>\n",
       "    <tr>\n",
       "      <th>3418</th>\n",
       "      <td>0.0</td>\n",
       "      <td>0</td>\n",
       "      <td>0</td>\n",
       "    </tr>\n",
       "    <tr>\n",
       "      <th>3471</th>\n",
       "      <td>0.0</td>\n",
       "      <td>0</td>\n",
       "      <td>0</td>\n",
       "    </tr>\n",
       "    <tr>\n",
       "      <th>3503</th>\n",
       "      <td>0.0</td>\n",
       "      <td>0</td>\n",
       "      <td>0</td>\n",
       "    </tr>\n",
       "    <tr>\n",
       "      <th>...</th>\n",
       "      <td>...</td>\n",
       "      <td>...</td>\n",
       "      <td>...</td>\n",
       "    </tr>\n",
       "    <tr>\n",
       "      <th>273809</th>\n",
       "      <td>0.0</td>\n",
       "      <td>0</td>\n",
       "      <td>0</td>\n",
       "    </tr>\n",
       "    <tr>\n",
       "      <th>274402</th>\n",
       "      <td>0.0</td>\n",
       "      <td>0</td>\n",
       "      <td>0</td>\n",
       "    </tr>\n",
       "    <tr>\n",
       "      <th>276204</th>\n",
       "      <td>0.0</td>\n",
       "      <td>0</td>\n",
       "      <td>0</td>\n",
       "    </tr>\n",
       "    <tr>\n",
       "      <th>352136</th>\n",
       "      <td>1.0</td>\n",
       "      <td>1</td>\n",
       "      <td>1</td>\n",
       "    </tr>\n",
       "    <tr>\n",
       "      <th>362496</th>\n",
       "      <td>0.0</td>\n",
       "      <td>0</td>\n",
       "      <td>0</td>\n",
       "    </tr>\n",
       "  </tbody>\n",
       "</table>\n",
       "<p>15388 rows × 3 columns</p>\n",
       "</div>"
      ],
      "text/plain": [
       "             mean  min  max\n",
       "             debt debt debt\n",
       "total_income               \n",
       "3306          1.0    1    1\n",
       "3392          0.0    0    0\n",
       "3418          0.0    0    0\n",
       "3471          0.0    0    0\n",
       "3503          0.0    0    0\n",
       "...           ...  ...  ...\n",
       "273809        0.0    0    0\n",
       "274402        0.0    0    0\n",
       "276204        0.0    0    0\n",
       "352136        1.0    1    1\n",
       "362496        0.0    0    0\n",
       "\n",
       "[15388 rows x 3 columns]"
      ]
     },
     "execution_count": 112,
     "metadata": {},
     "output_type": "execute_result"
    }
   ],
   "source": [
    "# pivot table with total_income vs debt\n",
    "loan_table2 = pd.pivot_table(credit_score_df, \n",
    "                             index = 'total_income', \n",
    "                             values= 'debt', \n",
    "                             aggfunc = ['mean', min, max]\n",
    "                            )\n",
    "loan_table2"
   ]
  },
  {
   "cell_type": "code",
   "execution_count": 114,
   "id": "ef99457a-7e3a-4286-be3d-0d5ea90ebb4d",
   "metadata": {},
   "outputs": [
    {
     "data": {
      "image/png": "[encoded data removed]",
      "text/plain": [
       "<Figure size 640x480 with 1 Axes>"
      ]
     },
     "metadata": {},
     "output_type": "display_data"
    }
   ],
   "source": [
    "# generate scatter plot \n",
    "ax = sns.scatterplot(x='total_income', y='debt', data=credit_score_df )"
   ]
  },
  {
   "cell_type": "markdown",
   "id": "bc99ff85-0df1-4f48-bca8-ee4769572002",
   "metadata": {},
   "source": [
    "# Conclusion\n",
    "\r\n",
    "From the correlation matrix, we have a weak negative correlation between total_income and debt. Looking further at the pivot table, we cannot derive any relationship between total_income and debt.\r\n",
    "\r\n",
    "How do different loan purposes affect on-time repayment of the loan?"
   ]
  },
  {
   "cell_type": "code",
   "execution_count": 118,
   "id": "8de85986-edad-4344-a3cd-462f5da82285",
   "metadata": {},
   "outputs": [
    {
     "data": {
      "image/png": "[encoded data removed]",
      "text/plain": [
       "<Figure size 800x600 with 1 Axes>"
      ]
     },
     "metadata": {},
     "output_type": "display_data"
    }
   ],
   "source": [
    "# different loan purposes as a potential predictor of repaying a loan on time\n",
    "plt.figure(figsize=(8, 6))\n",
    "sns.regplot(x='purpose', y='debt', data=credit_score_df_encode)\n",
    "plt.ylim(0,)\n",
    "plt.title('Correlation between loan purpose and on time loan repayment')\n",
    "plt.show()\n"
   ]
  },
  {
   "cell_type": "code",
   "execution_count": 121,
   "id": "ab2672e9-e17a-49e6-92fa-f55a68c8893c",
   "metadata": {},
   "outputs": [
    {
     "data": {
      "text/html": [
       "<div>\n",
       "<style scoped>\n",
       "    .dataframe tbody tr th:only-of-type {\n",
       "        vertical-align: middle;\n",
       "    }\n",
       "\n",
       "    .dataframe tbody tr th {\n",
       "        vertical-align: top;\n",
       "    }\n",
       "\n",
       "    .dataframe thead tr th {\n",
       "        text-align: left;\n",
       "    }\n",
       "\n",
       "    .dataframe thead tr:last-of-type th {\n",
       "        text-align: right;\n",
       "    }\n",
       "</style>\n",
       "<table border=\"1\" class=\"dataframe\">\n",
       "  <thead>\n",
       "    <tr>\n",
       "      <th></th>\n",
       "      <th>sum</th>\n",
       "      <th>len</th>\n",
       "      <th>mean</th>\n",
       "    </tr>\n",
       "    <tr>\n",
       "      <th></th>\n",
       "      <th>debt</th>\n",
       "      <th>debt</th>\n",
       "      <th>debt</th>\n",
       "    </tr>\n",
       "    <tr>\n",
       "      <th>purpose</th>\n",
       "      <th></th>\n",
       "      <th></th>\n",
       "      <th></th>\n",
       "    </tr>\n",
       "  </thead>\n",
       "  <tbody>\n",
       "    <tr>\n",
       "      <th>car purchase</th>\n",
       "      <td>367</td>\n",
       "      <td>3897</td>\n",
       "      <td>0.094175</td>\n",
       "    </tr>\n",
       "    <tr>\n",
       "      <th>education</th>\n",
       "      <td>331</td>\n",
       "      <td>3597</td>\n",
       "      <td>0.092021</td>\n",
       "    </tr>\n",
       "    <tr>\n",
       "      <th>house purchase</th>\n",
       "      <td>237</td>\n",
       "      <td>3447</td>\n",
       "      <td>0.068755</td>\n",
       "    </tr>\n",
       "    <tr>\n",
       "      <th>property</th>\n",
       "      <td>173</td>\n",
       "      <td>2281</td>\n",
       "      <td>0.075844</td>\n",
       "    </tr>\n",
       "    <tr>\n",
       "      <th>real estate</th>\n",
       "      <td>305</td>\n",
       "      <td>4029</td>\n",
       "      <td>0.075701</td>\n",
       "    </tr>\n",
       "    <tr>\n",
       "      <th>wedding</th>\n",
       "      <td>158</td>\n",
       "      <td>2099</td>\n",
       "      <td>0.075274</td>\n",
       "    </tr>\n",
       "  </tbody>\n",
       "</table>\n",
       "</div>"
      ],
      "text/plain": [
       "                sum   len      mean\n",
       "               debt  debt      debt\n",
       "purpose                            \n",
       "car purchase    367  3897  0.094175\n",
       "education       331  3597  0.092021\n",
       "house purchase  237  3447  0.068755\n",
       "property        173  2281  0.075844\n",
       "real estate     305  4029  0.075701\n",
       "wedding         158  2099  0.075274"
      ]
     },
     "execution_count": 121,
     "metadata": {},
     "output_type": "execute_result"
    }
   ],
   "source": [
    " #pivot table with purpose vs debt\n",
    "loan_table3 = pd.pivot_table(credit_score_df, \n",
    "                             index = ['purpose'], \n",
    "                             values= 'debt', \n",
    "                             aggfunc = ['sum', len, 'mean']\n",
    "                            )\n",
    "loan_table3"
   ]
  },
  {
   "cell_type": "code",
   "execution_count": 123,
   "id": "4d0c0a6a-56b0-4a23-a7a3-5b9e7244a8b4",
   "metadata": {},
   "outputs": [
    {
     "data": {
      "image/png": "[encoded data removed]",
      "text/plain": [
       "<Figure size 640x480 with 1 Axes>"
      ]
     },
     "metadata": {},
     "output_type": "display_data"
    }
   ],
   "source": [
    "# plot of purpose vs debt\n",
    "sns.set()\n",
    "pd.pivot_table(credit_score_df, index = 'purpose', values = 'debt').plot(kind= 'bar')\n",
    "plt.ylabel('debt')\n",
    "plt.title('Plot of debt vs purpose')\n",
    "plt.show()"
   ]
  },
  {
   "cell_type": "code",
   "execution_count": null,
   "id": "fbf101c8-740b-4e3e-948f-ea9fd11d042e",
   "metadata": {},
   "outputs": [],
   "source": []
  }
 ],
 "metadata": {
  "kernelspec": {
   "display_name": "Python 3 (ipykernel)",
   "language": "python",
   "name": "python3"
  },
  "language_info": {
   "codemirror_mode": {
    "name": "ipython",
    "version": 3
   },
   "file_extension": ".py",
   "mimetype": "text/x-python",
   "name": "python",
   "nbconvert_exporter": "python",
   "pygments_lexer": "ipython3",
   "version": "3.11.7"
  }
 },
 "nbformat": 4,
 "nbformat_minor": 5
}
